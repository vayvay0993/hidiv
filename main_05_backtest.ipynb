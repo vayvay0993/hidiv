{
 "cells": [
  {
   "cell_type": "code",
   "execution_count": 1,
   "metadata": {},
   "outputs": [],
   "source": [
    "import pandas as pd\n",
    "import numpy as np\n",
    "from copy import deepcopy\n",
    "import sys\n",
    "import numpy as np\n",
    "from sklearn.model_selection import GridSearchCV\n",
    "from xgboost import XGBRegressor\n",
    "\n",
    "from importlib import reload\n",
    "sys.path.append(\"D:/DST/\")\n",
    "import cathay_db as db\n",
    "import utils as ut\n",
    "import financial_statement as fs\n",
    "\n",
    "reload(ut)\n",
    "reload(fs)\n",
    "import matplotlib.pyplot as plt\n",
    "import datetime\n",
    "import os\n",
    "import xgboost as xgb\n",
    "sys.path.append(\"./src\")\n",
    "\n",
    "from toolbox import print_progress_bar\n",
    "\n",
    "# set max display rows\n",
    "pd.set_option(\"display.max_rows\", 200)\n",
    "\n",
    "# set max display columns\n",
    "pd.set_option(\"display.max_columns\", 100)\n",
    "\n",
    "# Set the float format to display without scientific notation\n",
    "pd.options.display.float_format = '{:.4f}'.format"
   ]
  },
  {
   "cell_type": "code",
   "execution_count": 2,
   "metadata": {},
   "outputs": [],
   "source": [
    "df_price = pd.read_feather('data/cmoney_price.feather')\n",
    "df_price = ut.cmoney_data_clean_up(df_price)\n",
    "df_price = df_price[['日期','股票代號','收盤價']]\n",
    "df_price.columns = ['date','ticker','unadj_price']\n",
    "df_price['date'] = pd.to_datetime(df_price['date'])\n",
    "# sort by date for shift\n",
    "df_price.sort_values(['ticker','date'],inplace=True)\n",
    "# shift to get last day price\n",
    "df_price['yesterday_price'] = df_price.groupby('ticker')['unadj_price'].shift(1)\n",
    "df_price['unadj_price'] = df_price['unadj_price'].astype(float)\n",
    "df_price['yesterday_price'] = df_price['yesterday_price'].astype(float)"
   ]
  },
  {
   "cell_type": "code",
   "execution_count": 3,
   "metadata": {},
   "outputs": [
    {
     "name": "stdout",
     "output_type": "stream",
     "text": [
      "dict_keys(['start_index', 'rebalance_date_lst', 'factor_columns', 'target_cols', 'model_save_path', 'param_search', 'fit_params'])\n",
      "['asset_qoq', 'asset_yoy', 'ppe_qoq', 'ppe_yoy', 'tobins_q', 'ni_4q_sum_qoq', 'ni_4q_sum_yoy', 'roe_4q_sum', 'roe_4q_sum_qoq', 'roe_4q_sum_yoy', 'opm', 'opm_qoq', 'opm_yoy', 'ocf_4q_sum / asset', 'ocf/asset_qoq', 'ocf/asset_yoy', '20_d_return', '40_d_return', '60_d_return', 'dividend_1Y_sum_yield_x', 'dividend_2Y_sum_yield_x', 'dividend_3Y_sum_yield_x', 'dividend_1Y_sum_yield_y', 'dividend_2Y_sum_yield_y', 'dividend_3Y_sum_yield_y', 'last_dividend_yield']\n"
     ]
    }
   ],
   "source": [
    "# select model \n",
    "model_folder_name = '20230713_141623'\n",
    "# model_folder_name = '20230712_173216'\n",
    "# model_folder_name = '20230711_171428'\n",
    "# model_folder_name = '20230711_110457'\n",
    "# model_folder_name = '20230707_140403'\n",
    "# model_folder_name = '20230706_141045'\n",
    "\n",
    "apply_buffer_index = 0\n",
    "base_portfolio_number = 50\n",
    "buffer_portfolio_number = 150\n",
    "\n",
    "# model_folder_name = '20230706_141045'\n",
    "\n",
    "# load setting from data/model/model_folder_name/setting.json\n",
    "setting = ut.load_json(f'./data/model/{model_folder_name}/setting.json')\n",
    "\n",
    "print(setting.keys())\n",
    "print(setting['factor_columns'])\n",
    "\n",
    "\n",
    "\n",
    "# df_dividend_select.to_feather(f'./data/model/{model_folder_name}/df_dividend_select.feather')\n",
    "# df_dividend_select = pd.read_feather(f'./data/model/{model_folder_name}/df_dividend_select.feather')\n",
    "df_dividend_select = pd.read_feather(f'./data/model/{model_folder_name}/df_buffer_result_{apply_buffer_index}_{base_portfolio_number}_{buffer_portfolio_number}.feather')\n",
    "\n",
    "# load df_factor from data/model/model_folder_name/df_factor_all.feather\n",
    "df_factor_all = pd.read_feather(f'./data/model/{model_folder_name}/df_factor_all_select.feather')\n",
    "\n",
    "select_ticker = df_dividend_select['ticker'].unique()\n",
    "\n",
    "df_cash_dividends = pd.read_feather('data/tej_cash_dividends.feather')\n",
    "df_cash_dividends = ut.tej_data_clean_up(df_cash_dividends)\n",
    "df_cash_dividends = df_cash_dividends[['股票代號','除息日','息值(元)']].copy()\n",
    "df_cash_dividends.columns = ['ticker','date','dividend']\n",
    "df_cash_dividends = df_cash_dividends[df_cash_dividends['ticker'].isin(select_ticker)].copy()\n",
    "df_cash_dividends.drop_duplicates(inplace=True)\n",
    "df_cash_dividends['dividend'] = df_cash_dividends['dividend'].astype(float)\n",
    "df_cash_dividends = df_cash_dividends.groupby(['ticker','date']).sum().reset_index()"
   ]
  },
  {
   "cell_type": "markdown",
   "metadata": {},
   "source": [
    "# 計算持有期間取得的現金股利率"
   ]
  },
  {
   "cell_type": "code",
   "execution_count": 4,
   "metadata": {},
   "outputs": [
    {
     "data": {
      "text/html": [
       "<div>\n",
       "<style scoped>\n",
       "    .dataframe tbody tr th:only-of-type {\n",
       "        vertical-align: middle;\n",
       "    }\n",
       "\n",
       "    .dataframe tbody tr th {\n",
       "        vertical-align: top;\n",
       "    }\n",
       "\n",
       "    .dataframe thead th {\n",
       "        text-align: right;\n",
       "    }\n",
       "</style>\n",
       "<table border=\"1\" class=\"dataframe\">\n",
       "  <thead>\n",
       "    <tr style=\"text-align: right;\">\n",
       "      <th></th>\n",
       "      <th>index</th>\n",
       "      <th>unadj_yield</th>\n",
       "    </tr>\n",
       "  </thead>\n",
       "  <tbody>\n",
       "    <tr>\n",
       "      <th>0</th>\n",
       "      <td>count</td>\n",
       "      <td>19.0000</td>\n",
       "    </tr>\n",
       "    <tr>\n",
       "      <th>1</th>\n",
       "      <td>mean</td>\n",
       "      <td>0.0996</td>\n",
       "    </tr>\n",
       "    <tr>\n",
       "      <th>2</th>\n",
       "      <td>std</td>\n",
       "      <td>0.0243</td>\n",
       "    </tr>\n",
       "    <tr>\n",
       "      <th>3</th>\n",
       "      <td>min</td>\n",
       "      <td>0.0693</td>\n",
       "    </tr>\n",
       "    <tr>\n",
       "      <th>4</th>\n",
       "      <td>25%</td>\n",
       "      <td>0.0820</td>\n",
       "    </tr>\n",
       "    <tr>\n",
       "      <th>5</th>\n",
       "      <td>50%</td>\n",
       "      <td>0.0965</td>\n",
       "    </tr>\n",
       "    <tr>\n",
       "      <th>6</th>\n",
       "      <td>75%</td>\n",
       "      <td>0.1039</td>\n",
       "    </tr>\n",
       "    <tr>\n",
       "      <th>7</th>\n",
       "      <td>max</td>\n",
       "      <td>0.1657</td>\n",
       "    </tr>\n",
       "  </tbody>\n",
       "</table>\n",
       "</div>"
      ],
      "text/plain": [
       "   index  unadj_yield\n",
       "0  count      19.0000\n",
       "1   mean       0.0996\n",
       "2    std       0.0243\n",
       "3    min       0.0693\n",
       "4    25%       0.0820\n",
       "5    50%       0.0965\n",
       "6    75%       0.1039\n",
       "7    max       0.1657"
      ]
     },
     "execution_count": 4,
     "metadata": {},
     "output_type": "execute_result"
    }
   ],
   "source": [
    "df_factor_all_price = pd.merge(df_factor_all,df_price,on=['date','ticker'],how='left')\n",
    "\n",
    "df_factor_all_price_dividend = pd.merge(df_factor_all_price,df_cash_dividends,on=['date','ticker'],how='left')\n",
    "df_factor_all_price_dividend['unadj_yield'] = df_factor_all_price_dividend['dividend'] / df_factor_all_price_dividend['yesterday_price']\n",
    "\n",
    "# calculate the sum of dividend yield of each stock in each period \n",
    "df_period_yield = df_factor_all_price_dividend.groupby(['ticker','rebalance_date'], as_index=False, group_keys=False)['unadj_yield'].sum()\n",
    "\n",
    "# merge the sum of dividend yield to df_dividend_select for calculate the portfolio dividend yield\n",
    "df_dividend_select_yield = pd.merge(df_dividend_select,df_period_yield,on=['ticker','rebalance_date'],how='left')\n",
    "\n",
    "df_quaterly_div = df_dividend_select_yield.groupby('rebalance_date')['unadj_yield'].mean().reset_index()\n",
    "df_quaterly_div['year'] = df_quaterly_div['rebalance_date'].dt.year\n",
    "df_quaterly_div.groupby('year')['unadj_yield'].sum().reset_index()['unadj_yield'].describe().reset_index()"
   ]
  },
  {
   "cell_type": "code",
   "execution_count": 5,
   "metadata": {},
   "outputs": [
    {
     "data": {
      "text/plain": [
       "<Axes: xlabel='year'>"
      ]
     },
     "execution_count": 5,
     "metadata": {},
     "output_type": "execute_result"
    },
    {
     "data": {
      "image/png": "[encoded data removed]",
      "text/plain": [
       "<Figure size 640x480 with 1 Axes>"
      ]
     },
     "metadata": {},
     "output_type": "display_data"
    }
   ],
   "source": [
    "df_quaterly_div.groupby('year')['unadj_yield'].sum().plot(kind='bar')"
   ]
  },
  {
   "cell_type": "markdown",
   "metadata": {},
   "source": [
    "# 計算選股 pct_rank 統計資料"
   ]
  },
  {
   "cell_type": "code",
   "execution_count": 6,
   "metadata": {},
   "outputs": [
    {
     "data": {
      "text/html": [
       "<div>\n",
       "<style scoped>\n",
       "    .dataframe tbody tr th:only-of-type {\n",
       "        vertical-align: middle;\n",
       "    }\n",
       "\n",
       "    .dataframe tbody tr th {\n",
       "        vertical-align: top;\n",
       "    }\n",
       "\n",
       "    .dataframe thead th {\n",
       "        text-align: right;\n",
       "    }\n",
       "</style>\n",
       "<table border=\"1\" class=\"dataframe\">\n",
       "  <thead>\n",
       "    <tr style=\"text-align: right;\">\n",
       "      <th></th>\n",
       "      <th>index</th>\n",
       "      <th>0</th>\n",
       "    </tr>\n",
       "  </thead>\n",
       "  <tbody>\n",
       "    <tr>\n",
       "      <th>0</th>\n",
       "      <td>count</td>\n",
       "      <td>50.0000</td>\n",
       "    </tr>\n",
       "    <tr>\n",
       "      <th>1</th>\n",
       "      <td>mean</td>\n",
       "      <td>0.4939</td>\n",
       "    </tr>\n",
       "    <tr>\n",
       "      <th>2</th>\n",
       "      <td>std</td>\n",
       "      <td>0.2815</td>\n",
       "    </tr>\n",
       "    <tr>\n",
       "      <th>3</th>\n",
       "      <td>min</td>\n",
       "      <td>0.0250</td>\n",
       "    </tr>\n",
       "    <tr>\n",
       "      <th>4</th>\n",
       "      <td>25%</td>\n",
       "      <td>0.2557</td>\n",
       "    </tr>\n",
       "    <tr>\n",
       "      <th>5</th>\n",
       "      <td>50%</td>\n",
       "      <td>0.4919</td>\n",
       "    </tr>\n",
       "    <tr>\n",
       "      <th>6</th>\n",
       "      <td>75%</td>\n",
       "      <td>0.7293</td>\n",
       "    </tr>\n",
       "    <tr>\n",
       "      <th>7</th>\n",
       "      <td>max</td>\n",
       "      <td>0.9685</td>\n",
       "    </tr>\n",
       "  </tbody>\n",
       "</table>\n",
       "</div>"
      ],
      "text/plain": [
       "   index       0\n",
       "0  count 50.0000\n",
       "1   mean  0.4939\n",
       "2    std  0.2815\n",
       "3    min  0.0250\n",
       "4    25%  0.2557\n",
       "5    50%  0.4919\n",
       "6    75%  0.7293\n",
       "7    max  0.9685"
      ]
     },
     "execution_count": 6,
     "metadata": {},
     "output_type": "execute_result"
    }
   ],
   "source": [
    "# create pct_rank for y by date\n",
    "df_factor_all['y_pct_rank'] = df_factor_all.groupby('date')['y'].rank(pct=True, ascending=False)\n",
    "df_dividend_select = df_dividend_select.merge(df_factor_all[['ticker','date','y_pct_rank']],on=['ticker','date'],how='left')\n",
    "df_dividend_select.groupby('date')['y_pct_rank'].describe().mean().reset_index()"
   ]
  },
  {
   "cell_type": "markdown",
   "metadata": {},
   "source": [
    "# 計算持有期間換倉的周轉率"
   ]
  },
  {
   "cell_type": "code",
   "execution_count": 7,
   "metadata": {},
   "outputs": [
    {
     "data": {
      "text/html": [
       "<div>\n",
       "<style scoped>\n",
       "    .dataframe tbody tr th:only-of-type {\n",
       "        vertical-align: middle;\n",
       "    }\n",
       "\n",
       "    .dataframe tbody tr th {\n",
       "        vertical-align: top;\n",
       "    }\n",
       "\n",
       "    .dataframe thead th {\n",
       "        text-align: right;\n",
       "    }\n",
       "</style>\n",
       "<table border=\"1\" class=\"dataframe\">\n",
       "  <thead>\n",
       "    <tr style=\"text-align: right;\">\n",
       "      <th></th>\n",
       "      <th>index</th>\n",
       "      <th>turnover</th>\n",
       "    </tr>\n",
       "  </thead>\n",
       "  <tbody>\n",
       "    <tr>\n",
       "      <th>0</th>\n",
       "      <td>count</td>\n",
       "      <td>19.0000</td>\n",
       "    </tr>\n",
       "    <tr>\n",
       "      <th>1</th>\n",
       "      <td>mean</td>\n",
       "      <td>279.5789</td>\n",
       "    </tr>\n",
       "    <tr>\n",
       "      <th>2</th>\n",
       "      <td>std</td>\n",
       "      <td>23.6322</td>\n",
       "    </tr>\n",
       "    <tr>\n",
       "      <th>3</th>\n",
       "      <td>min</td>\n",
       "      <td>234.0000</td>\n",
       "    </tr>\n",
       "    <tr>\n",
       "      <th>4</th>\n",
       "      <td>25%</td>\n",
       "      <td>264.0000</td>\n",
       "    </tr>\n",
       "    <tr>\n",
       "      <th>5</th>\n",
       "      <td>50%</td>\n",
       "      <td>278.0000</td>\n",
       "    </tr>\n",
       "    <tr>\n",
       "      <th>6</th>\n",
       "      <td>75%</td>\n",
       "      <td>293.0000</td>\n",
       "    </tr>\n",
       "    <tr>\n",
       "      <th>7</th>\n",
       "      <td>max</td>\n",
       "      <td>322.0000</td>\n",
       "    </tr>\n",
       "  </tbody>\n",
       "</table>\n",
       "</div>"
      ],
      "text/plain": [
       "   index  turnover\n",
       "0  count   19.0000\n",
       "1   mean  279.5789\n",
       "2    std   23.6322\n",
       "3    min  234.0000\n",
       "4    25%  264.0000\n",
       "5    50%  278.0000\n",
       "6    75%  293.0000\n",
       "7    max  322.0000"
      ]
     },
     "execution_count": 7,
     "metadata": {},
     "output_type": "execute_result"
    }
   ],
   "source": [
    "# create the weight column for each ticker, weight = 1 / total num of ticker in the rebalance date\n",
    "df_dividend_select_yield['weight'] = 1 / df_dividend_select_yield.groupby('rebalance_date')['ticker'].transform('count')\n",
    "\n",
    "df_weight = pd.pivot(df_dividend_select_yield, index='rebalance_date', columns='ticker', values='weight').copy()\n",
    "df_weight.fillna(0,inplace=True)\n",
    "\n",
    "# calculate the turnover by calculate the abs change of weight and sum up\n",
    "df_weight_change = df_weight.diff().abs() / 2 * 100\n",
    "df_quarterly_turnover = df_weight_change.sum(axis=1).reset_index()\n",
    "df_quarterly_turnover.columns = ['rebalance_date','turnover']\n",
    "df_quarterly_turnover['year'] = df_quarterly_turnover['rebalance_date'].dt.year\n",
    "df_yearly_turnover = df_quarterly_turnover.groupby('year')['turnover'].sum().reset_index()\n",
    "df_yearly_turnover['turnover'].describe().reset_index()"
   ]
  },
  {
   "cell_type": "code",
   "execution_count": null,
   "metadata": {},
   "outputs": [],
   "source": []
  }
 ],
 "metadata": {
  "kernelspec": {
   "display_name": "venv",
   "language": "python",
   "name": "python3"
  },
  "language_info": {
   "codemirror_mode": {
    "name": "ipython",
    "version": 3
   },
   "file_extension": ".py",
   "mimetype": "text/x-python",
   "name": "python",
   "nbconvert_exporter": "python",
   "pygments_lexer": "ipython3",
   "version": "3.11.4"
  },
  "orig_nbformat": 4
 },
 "nbformat": 4,
 "nbformat_minor": 2
}
