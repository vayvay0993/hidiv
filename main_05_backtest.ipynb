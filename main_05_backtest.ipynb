{
 "cells": [
  {
   "cell_type": "code",
   "execution_count": 1,
   "metadata": {},
   "outputs": [],
   "source": [
    "import pandas as pd\n",
    "import numpy as np\n",
    "from copy import deepcopy\n",
    "import sys\n",
    "import numpy as np\n",
    "from sklearn.model_selection import GridSearchCV\n",
    "from xgboost import XGBRegressor\n",
    "\n",
    "from importlib import reload\n",
    "sys.path.append(\"D:/DST/\")\n",
    "import cathay_db as db\n",
    "import utils as ut\n",
    "import financial_statement as fs\n",
    "\n",
    "reload(ut)\n",
    "reload(fs)\n",
    "import matplotlib.pyplot as plt\n",
    "import datetime\n",
    "import os\n",
    "import xgboost as xgb\n",
    "sys.path.append(\"./src\")\n",
    "\n",
    "from toolbox import print_progress_bar\n",
    "\n",
    "# set max display rows\n",
    "pd.set_option(\"display.max_rows\", 200)\n",
    "\n",
    "# set max display columns\n",
    "pd.set_option(\"display.max_columns\", 100)\n",
    "\n",
    "# Set the float format to display without scientific notation\n",
    "pd.options.display.float_format = '{:.4f}'.format"
   ]
  },
  {
   "cell_type": "code",
   "execution_count": 2,
   "metadata": {},
   "outputs": [
    {
     "name": "stdout",
     "output_type": "stream",
     "text": [
      "dict_keys(['start_index', 'rebalance_date_lst', 'factor_columns', 'target_cols', 'model_save_path', 'param_search'])\n",
      "['asset_qoq', 'asset_yoy', 'ni_qoq', 'ni_yoy', 'roe', 'roe_yoy', 'roe_4q_sum', 'roe_4q_sum_yoy', 'tobins_q', 'ocf / asset', '20_d_return', '40_d_return', '60_d_return', 'dividend_1Y_sum_yield', 'dividend_2Y_sum_yield', 'dividend_3Y_sum_yield', 'last_dividend_yield']\n"
     ]
    }
   ],
   "source": [
    "# select model \n",
    "model_folder_name = '20230707_140403'\n",
    "# model_folder_name = '20230706_141045'\n",
    "\n",
    "# load setting from data/model/model_folder_name/setting.json\n",
    "setting = ut.load_json(f'./data/model/{model_folder_name}/setting.json')\n",
    "\n",
    "print(setting.keys())\n",
    "print(setting['factor_columns'])\n",
    "\n",
    "# df_dividend_select.to_feather(f'./data/model/{model_folder_name}/df_dividend_select.feather')\n",
    "df_dividend_select = pd.read_feather(f'./data/model/{model_folder_name}/df_dividend_select.feather')\n",
    "\n",
    "# load df_factor from data/model/model_folder_name/df_factor_all.feather\n",
    "df_factor_all = pd.read_feather(f'./data/model/{model_folder_name}/df_factor_all_select.feather')\n",
    "\n",
    "select_ticker = df_dividend_select['ticker'].unique()\n",
    "\n",
    "df_cash_dividends = pd.read_feather('data/tej_cash_dividends.feather')\n",
    "df_cash_dividends = ut.tej_data_clean_up(df_cash_dividends)\n",
    "df_cash_dividends = df_cash_dividends[['股票代號','除息日','息值(元)']].copy()\n",
    "df_cash_dividends.columns = ['ticker','date','dividend']\n",
    "df_cash_dividends = df_cash_dividends[df_cash_dividends['ticker'].isin(select_ticker)].copy()\n",
    "df_cash_dividends.drop_duplicates(inplace=True)\n",
    "df_cash_dividends['dividend'] = df_cash_dividends['dividend'].astype(float)\n",
    "df_cash_dividends = df_cash_dividends.groupby(['ticker','date']).sum().reset_index()\n",
    "\n"
   ]
  },
  {
   "cell_type": "code",
   "execution_count": 14,
   "metadata": {},
   "outputs": [],
   "source": [
    "df_price = pd.read_feather('data/cmoney_price.feather')\n",
    "df_price = ut.cmoney_data_clean_up(df_price)\n",
    "df_price = df_price[['日期','股票代號','收盤價']]\n",
    "df_price.columns = ['date','ticker','unadj_price']\n",
    "df_price['date'] = pd.to_datetime(df_price['date'])\n",
    "# sort by date for shift\n",
    "df_price.sort_values(['ticker','date'],inplace=True)\n",
    "# shift to get last day price\n",
    "df_price['yesterday_price'] = df_price.groupby('ticker')['unadj_price'].shift(1)\n",
    "df_price['unadj_price'] = df_price['unadj_price'].astype(float)\n",
    "df_price['yesterday_price'] = df_price['yesterday_price'].astype(float)"
   ]
  },
  {
   "cell_type": "code",
   "execution_count": 15,
   "metadata": {},
   "outputs": [
    {
     "data": {
      "text/html": [
       "<div>\n",
       "<style scoped>\n",
       "    .dataframe tbody tr th:only-of-type {\n",
       "        vertical-align: middle;\n",
       "    }\n",
       "\n",
       "    .dataframe tbody tr th {\n",
       "        vertical-align: top;\n",
       "    }\n",
       "\n",
       "    .dataframe thead th {\n",
       "        text-align: right;\n",
       "    }\n",
       "</style>\n",
       "<table border=\"1\" class=\"dataframe\">\n",
       "  <thead>\n",
       "    <tr style=\"text-align: right;\">\n",
       "      <th></th>\n",
       "      <th>year</th>\n",
       "      <th>unadj_yield</th>\n",
       "    </tr>\n",
       "  </thead>\n",
       "  <tbody>\n",
       "    <tr>\n",
       "      <th>count</th>\n",
       "      <td>18.0000</td>\n",
       "      <td>18.0000</td>\n",
       "    </tr>\n",
       "    <tr>\n",
       "      <th>mean</th>\n",
       "      <td>2013.5000</td>\n",
       "      <td>0.0901</td>\n",
       "    </tr>\n",
       "    <tr>\n",
       "      <th>std</th>\n",
       "      <td>5.3385</td>\n",
       "      <td>0.0247</td>\n",
       "    </tr>\n",
       "    <tr>\n",
       "      <th>min</th>\n",
       "      <td>2005.0000</td>\n",
       "      <td>0.0344</td>\n",
       "    </tr>\n",
       "    <tr>\n",
       "      <th>25%</th>\n",
       "      <td>2009.2500</td>\n",
       "      <td>0.0762</td>\n",
       "    </tr>\n",
       "    <tr>\n",
       "      <th>50%</th>\n",
       "      <td>2013.5000</td>\n",
       "      <td>0.0905</td>\n",
       "    </tr>\n",
       "    <tr>\n",
       "      <th>75%</th>\n",
       "      <td>2017.7500</td>\n",
       "      <td>0.1004</td>\n",
       "    </tr>\n",
       "    <tr>\n",
       "      <th>max</th>\n",
       "      <td>2022.0000</td>\n",
       "      <td>0.1567</td>\n",
       "    </tr>\n",
       "  </tbody>\n",
       "</table>\n",
       "</div>"
      ],
      "text/plain": [
       "           year  unadj_yield\n",
       "count   18.0000      18.0000\n",
       "mean  2013.5000       0.0901\n",
       "std      5.3385       0.0247\n",
       "min   2005.0000       0.0344\n",
       "25%   2009.2500       0.0762\n",
       "50%   2013.5000       0.0905\n",
       "75%   2017.7500       0.1004\n",
       "max   2022.0000       0.1567"
      ]
     },
     "execution_count": 15,
     "metadata": {},
     "output_type": "execute_result"
    }
   ],
   "source": [
    "df_factor_all_price = pd.merge(df_factor_all,df_price,on=['date','ticker'],how='left')\n",
    "\n",
    "df_factor_all_price_dividend = pd.merge(df_factor_all_price,df_cash_dividends,on=['date','ticker'],how='left')\n",
    "df_factor_all_price_dividend['unadj_yield'] = df_factor_all_price_dividend['dividend'] / df_factor_all_price_dividend['yesterday_price']\n",
    "\n",
    "df_period_yield = df_factor_all_price_dividend.groupby(['ticker','rebalance_date'], as_index=False, group_keys=False)['unadj_yield'].sum()\n",
    "df_dividend_select_yield = pd.merge(df_dividend_select,df_period_yield,on=['ticker','rebalance_date'],how='left')\n",
    "\n",
    "df_quaterly_div = df_dividend_select_yield.groupby('rebalance_date')['unadj_yield'].mean().reset_index()\n",
    "df_quaterly_div['year'] = df_quaterly_div['rebalance_date'].dt.year\n",
    "df_quaterly_div.groupby('year')['unadj_yield'].sum().reset_index().describe()"
   ]
  },
  {
   "cell_type": "code",
   "execution_count": 16,
   "metadata": {},
   "outputs": [
    {
     "data": {
      "text/plain": [
       "<Axes: xlabel='year'>"
      ]
     },
     "execution_count": 16,
     "metadata": {},
     "output_type": "execute_result"
    },
    {
     "data": {
      "image/png": "[encoded data removed]",
      "text/plain": [
       "<Figure size 640x480 with 1 Axes>"
      ]
     },
     "metadata": {},
     "output_type": "display_data"
    }
   ],
   "source": [
    "df_quaterly_div.groupby('year')['unadj_yield'].sum().plot(kind='bar')"
   ]
  },
  {
   "cell_type": "markdown",
   "metadata": {},
   "source": [
    "# Turnover"
   ]
  },
  {
   "cell_type": "code",
   "execution_count": 44,
   "metadata": {},
   "outputs": [
    {
     "data": {
      "text/plain": [
       "count    18.0000\n",
       "mean    287.3333\n",
       "std      25.5573\n",
       "min     220.0000\n",
       "25%     274.0000\n",
       "50%     288.0000\n",
       "75%     298.0000\n",
       "max     334.0000\n",
       "Name: turnover, dtype: float64"
      ]
     },
     "execution_count": 44,
     "metadata": {},
     "output_type": "execute_result"
    }
   ],
   "source": [
    "# create the weight column for each ticker, weight = 1 / total num of ticker in the rebalance date\n",
    "df_dividend_select_yield['weight'] = 1 / df_dividend_select_yield.groupby('rebalance_date')['ticker'].transform('count')\n",
    "\n",
    "df_weight = pd.pivot(df_dividend_select_yield, index='rebalance_date', columns='ticker', values='weight').copy()\n",
    "df_weight.fillna(0,inplace=True)\n",
    "\n",
    "\n",
    "df_weight_change = df_weight.diff().abs() / 2 * 100\n",
    "df_quarterly_turnover = df_weight_change.sum(axis=1).reset_index()\n",
    "df_quarterly_turnover.columns = ['rebalance_date','turnover']\n",
    "df_quarterly_turnover['year'] = df_quarterly_turnover['rebalance_date'].dt.year\n",
    "df_yearly_turnover = df_quarterly_turnover.groupby('year')['turnover'].sum().reset_index()\n",
    "df_yearly_turnover['turnover'].describe()"
   ]
  },
  {
   "cell_type": "code",
   "execution_count": null,
   "metadata": {},
   "outputs": [],
   "source": []
  },
  {
   "cell_type": "code",
   "execution_count": null,
   "metadata": {},
   "outputs": [],
   "source": []
  }
 ],
 "metadata": {
  "kernelspec": {
   "display_name": "venv",
   "language": "python",
   "name": "python3"
  },
  "language_info": {
   "codemirror_mode": {
    "name": "ipython",
    "version": 3
   },
   "file_extension": ".py",
   "mimetype": "text/x-python",
   "name": "python",
   "nbconvert_exporter": "python",
   "pygments_lexer": "ipython3",
   "version": "3.11.4"
  },
  "orig_nbformat": 4
 },
 "nbformat": 4,
 "nbformat_minor": 2
}
