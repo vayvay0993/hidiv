{
 "cells": [
  {
   "cell_type": "code",
   "execution_count": 2,
   "metadata": {},
   "outputs": [],
   "source": [
    "import pandas as pd\n",
    "import numpy as np\n",
    "from copy import deepcopy\n",
    "import sys\n",
    "import numpy as np\n",
    "from sklearn.model_selection import GridSearchCV\n",
    "from xgboost import XGBRegressor\n",
    "\n",
    "from importlib import reload\n",
    "sys.path.append(\"D:/DST/\")\n",
    "import cathay_db as db\n",
    "import utils as ut\n",
    "import financial_statement as fs\n",
    "\n",
    "reload(ut)\n",
    "reload(fs)\n",
    "import matplotlib.pyplot as plt\n",
    "import datetime\n",
    "import os\n",
    "import xgboost as xgb\n",
    "sys.path.append(\"./src\")\n",
    "\n",
    "from toolbox import print_progress_bar\n",
    "\n",
    "# set max display rows\n",
    "pd.set_option(\"display.max_rows\", 200)\n",
    "\n",
    "# set max display columns\n",
    "pd.set_option(\"display.max_columns\", 100)\n",
    "\n",
    "# Set the float format to display without scientific notation\n",
    "pd.options.display.float_format = '{:.4f}'.format"
   ]
  },
  {
   "cell_type": "code",
   "execution_count": 3,
   "metadata": {},
   "outputs": [],
   "source": [
    "# select model \n",
    "model_folder_name = '20230706_141045'"
   ]
  },
  {
   "cell_type": "code",
   "execution_count": 4,
   "metadata": {},
   "outputs": [],
   "source": [
    "# load setting from data/model/model_folder_name/setting.json\n",
    "setting = ut.load_json(f'./data/model/{model_folder_name}/setting.json')"
   ]
  },
  {
   "cell_type": "code",
   "execution_count": 5,
   "metadata": {},
   "outputs": [
    {
     "data": {
      "text/plain": [
       "dict_keys(['start_index', 'rebalance_date_lst', 'factor_columns', 'target_cols', 'model_save_path', 'param_search'])"
      ]
     },
     "execution_count": 5,
     "metadata": {},
     "output_type": "execute_result"
    }
   ],
   "source": [
    "setting.keys()"
   ]
  },
  {
   "cell_type": "code",
   "execution_count": 6,
   "metadata": {},
   "outputs": [],
   "source": [
    "# create a list for model json file in model/model_folder_name\n",
    "model_list = []\n",
    "for model in os.listdir(f'./models/{model_folder_name}'):\n",
    "    if model.endswith('.json'):\n",
    "        # append the model path to model_list\n",
    "        model_list.append(f'./models/{model_folder_name}/{model}')\n",
    "# sort model_list\n",
    "model_list.sort()"
   ]
  },
  {
   "cell_type": "code",
   "execution_count": 7,
   "metadata": {},
   "outputs": [],
   "source": [
    "model = xgb.Booster()\n",
    "model.load_model(model_list[0])"
   ]
  },
  {
   "cell_type": "code",
   "execution_count": 8,
   "metadata": {},
   "outputs": [
    {
     "data": {
      "text/plain": [
       "'./models/20230706_141045/20060116.json'"
      ]
     },
     "execution_count": 8,
     "metadata": {},
     "output_type": "execute_result"
    }
   ],
   "source": [
    "model_list[0]"
   ]
  },
  {
   "cell_type": "code",
   "execution_count": 9,
   "metadata": {},
   "outputs": [],
   "source": [
    "model = xgb.Booster()\n",
    "\n",
    "model.load_model(model_list[0])"
   ]
  },
  {
   "cell_type": "code",
   "execution_count": 34,
   "metadata": {},
   "outputs": [],
   "source": [
    "# load df_factor from data/model/model_folder_name/df_factor_all.feather\n",
    "df_factor_all = pd.read_feather(f'./data/model/{model_folder_name}/df_factor_all.feather')\n",
    "\n",
    "df_model_mapping = pd.DataFrame()\n",
    "df_model_mapping['rebalance_date'] = setting['rebalance_date_lst'][setting['start_index'] + 0:]\n",
    "df_model_mapping['model_path'] = model_list\n",
    "# convert rebalance_date to datetime\n",
    "df_model_mapping['rebalance_date'] = pd.to_datetime(df_model_mapping['rebalance_date'])\n",
    "\n",
    "# merge the df_model_mapping and df_factor_all\n",
    "df_factor_all = pd.merge(df_factor_all, df_model_mapping, left_on='date', right_on='rebalance_date', how='left')\n",
    "df_factor_all = df_factor_all.sort_values(['date','ticker']).reset_index(drop=True)\n",
    "df_factor_all['model_path'].fillna(method='ffill', inplace=True)\n",
    "df_factor_all['rebalance_date'].fillna(method='ffill', inplace=True)\n",
    "df_factor_all.dropna(subset=['model_path'], inplace=True)"
   ]
  },
  {
   "cell_type": "code",
   "execution_count": 35,
   "metadata": {},
   "outputs": [],
   "source": [
    "reb_lst = df_factor_all['rebalance_date'].unique()\n",
    "model_list"
   ]
  },
  {
   "cell_type": "code",
   "execution_count": 37,
   "metadata": {},
   "outputs": [],
   "source": [
    "factor_columns = setting['factor_columns']"
   ]
  },
  {
   "cell_type": "code",
   "execution_count": 59,
   "metadata": {},
   "outputs": [],
   "source": [
    "df_predict_all = pd.DataFrame([])\n",
    "df_feature_importance_all = pd.DataFrame([])\n",
    "for i, model_path in enumerate(model_list):\n",
    "    model = xgb.Booster()\n",
    "    model.load_model(model_path)\n",
    "\n",
    "    df_feature_importance = pd.DataFrame(model.get_score(importance_type='gain').items(), columns=['feature','importance'])\n",
    "    df_feature_importance.sort_values('importance', ascending=False, inplace=True)\n",
    "    df_feature_importance['date'] = reb_lst[i]\n",
    "    df_feature_importance_all = pd.concat([df_feature_importance_all, df_feature_importance], axis=0)\n",
    "\n",
    "    df_predict = df_factor_all[df_factor_all['rebalance_date'] == reb_lst[i]].reset_index(drop=True).copy()\n",
    "    df_predict['predict'] = model.predict(xgb.DMatrix(df_predict[factor_columns]))\n",
    "    df_predict_all = pd.concat([df_predict_all, df_predict], axis=0)"
   ]
  },
  {
   "cell_type": "code",
   "execution_count": 62,
   "metadata": {},
   "outputs": [
    {
     "data": {
      "text/html": [
       "<div>\n",
       "<style scoped>\n",
       "    .dataframe tbody tr th:only-of-type {\n",
       "        vertical-align: middle;\n",
       "    }\n",
       "\n",
       "    .dataframe tbody tr th {\n",
       "        vertical-align: top;\n",
       "    }\n",
       "\n",
       "    .dataframe thead th {\n",
       "        text-align: right;\n",
       "    }\n",
       "</style>\n",
       "<table border=\"1\" class=\"dataframe\">\n",
       "  <thead>\n",
       "    <tr style=\"text-align: right;\">\n",
       "      <th></th>\n",
       "      <th>count</th>\n",
       "      <th>mean</th>\n",
       "      <th>std</th>\n",
       "      <th>min</th>\n",
       "      <th>25%</th>\n",
       "      <th>50%</th>\n",
       "      <th>75%</th>\n",
       "      <th>max</th>\n",
       "    </tr>\n",
       "    <tr>\n",
       "      <th>feature</th>\n",
       "      <th></th>\n",
       "      <th></th>\n",
       "      <th></th>\n",
       "      <th></th>\n",
       "      <th></th>\n",
       "      <th></th>\n",
       "      <th></th>\n",
       "      <th></th>\n",
       "    </tr>\n",
       "  </thead>\n",
       "  <tbody>\n",
       "    <tr>\n",
       "      <th>excess_return</th>\n",
       "      <td>68.0000</td>\n",
       "      <td>6.0547</td>\n",
       "      <td>2.6034</td>\n",
       "      <td>0.8613</td>\n",
       "      <td>5.1541</td>\n",
       "      <td>6.5080</td>\n",
       "      <td>7.9617</td>\n",
       "      <td>9.6449</td>\n",
       "    </tr>\n",
       "    <tr>\n",
       "      <th>dividend_3Y_sum_yield</th>\n",
       "      <td>68.0000</td>\n",
       "      <td>3.4282</td>\n",
       "      <td>2.0865</td>\n",
       "      <td>0.4175</td>\n",
       "      <td>1.7640</td>\n",
       "      <td>2.9927</td>\n",
       "      <td>5.4081</td>\n",
       "      <td>7.4012</td>\n",
       "    </tr>\n",
       "    <tr>\n",
       "      <th>roe</th>\n",
       "      <td>68.0000</td>\n",
       "      <td>3.2915</td>\n",
       "      <td>0.7745</td>\n",
       "      <td>1.2942</td>\n",
       "      <td>2.8133</td>\n",
       "      <td>3.7138</td>\n",
       "      <td>3.9348</td>\n",
       "      <td>4.1383</td>\n",
       "    </tr>\n",
       "    <tr>\n",
       "      <th>ni_qoq</th>\n",
       "      <td>68.0000</td>\n",
       "      <td>3.1072</td>\n",
       "      <td>0.8089</td>\n",
       "      <td>0.6654</td>\n",
       "      <td>2.8437</td>\n",
       "      <td>3.3152</td>\n",
       "      <td>3.5688</td>\n",
       "      <td>4.3699</td>\n",
       "    </tr>\n",
       "    <tr>\n",
       "      <th>tobins_q</th>\n",
       "      <td>68.0000</td>\n",
       "      <td>3.1016</td>\n",
       "      <td>1.2727</td>\n",
       "      <td>0.5609</td>\n",
       "      <td>2.5214</td>\n",
       "      <td>3.0731</td>\n",
       "      <td>4.0476</td>\n",
       "      <td>6.1974</td>\n",
       "    </tr>\n",
       "    <tr>\n",
       "      <th>last_dividend_yield</th>\n",
       "      <td>65.0000</td>\n",
       "      <td>2.8112</td>\n",
       "      <td>1.2099</td>\n",
       "      <td>0.4787</td>\n",
       "      <td>2.0252</td>\n",
       "      <td>2.4257</td>\n",
       "      <td>4.0086</td>\n",
       "      <td>5.0758</td>\n",
       "    </tr>\n",
       "    <tr>\n",
       "      <th>roe_yoy</th>\n",
       "      <td>68.0000</td>\n",
       "      <td>2.4990</td>\n",
       "      <td>1.0534</td>\n",
       "      <td>0.4509</td>\n",
       "      <td>1.8833</td>\n",
       "      <td>2.2832</td>\n",
       "      <td>3.4629</td>\n",
       "      <td>5.0157</td>\n",
       "    </tr>\n",
       "    <tr>\n",
       "      <th>dividend_2Y_sum_yield</th>\n",
       "      <td>67.0000</td>\n",
       "      <td>2.3983</td>\n",
       "      <td>1.2720</td>\n",
       "      <td>0.3677</td>\n",
       "      <td>1.3046</td>\n",
       "      <td>2.5070</td>\n",
       "      <td>3.2357</td>\n",
       "      <td>4.8338</td>\n",
       "    </tr>\n",
       "    <tr>\n",
       "      <th>roe_4q_sum</th>\n",
       "      <td>68.0000</td>\n",
       "      <td>1.9056</td>\n",
       "      <td>0.7282</td>\n",
       "      <td>0.9613</td>\n",
       "      <td>1.3659</td>\n",
       "      <td>1.5984</td>\n",
       "      <td>2.5602</td>\n",
       "      <td>3.3826</td>\n",
       "    </tr>\n",
       "    <tr>\n",
       "      <th>asset_qoq</th>\n",
       "      <td>68.0000</td>\n",
       "      <td>1.7786</td>\n",
       "      <td>0.4260</td>\n",
       "      <td>0.5168</td>\n",
       "      <td>1.4914</td>\n",
       "      <td>1.8039</td>\n",
       "      <td>2.0916</td>\n",
       "      <td>3.0603</td>\n",
       "    </tr>\n",
       "    <tr>\n",
       "      <th>asset_yoy</th>\n",
       "      <td>68.0000</td>\n",
       "      <td>1.7067</td>\n",
       "      <td>0.7640</td>\n",
       "      <td>0.7741</td>\n",
       "      <td>1.2479</td>\n",
       "      <td>1.5392</td>\n",
       "      <td>1.8999</td>\n",
       "      <td>4.5680</td>\n",
       "    </tr>\n",
       "    <tr>\n",
       "      <th>ppe_qoq</th>\n",
       "      <td>68.0000</td>\n",
       "      <td>1.6117</td>\n",
       "      <td>0.5011</td>\n",
       "      <td>0.3424</td>\n",
       "      <td>1.3084</td>\n",
       "      <td>1.5505</td>\n",
       "      <td>1.9292</td>\n",
       "      <td>2.6931</td>\n",
       "    </tr>\n",
       "    <tr>\n",
       "      <th>ni_yoy</th>\n",
       "      <td>68.0000</td>\n",
       "      <td>1.3465</td>\n",
       "      <td>0.4546</td>\n",
       "      <td>0.6062</td>\n",
       "      <td>1.0239</td>\n",
       "      <td>1.1868</td>\n",
       "      <td>1.7360</td>\n",
       "      <td>2.3231</td>\n",
       "    </tr>\n",
       "    <tr>\n",
       "      <th>ocf / asset</th>\n",
       "      <td>68.0000</td>\n",
       "      <td>1.3001</td>\n",
       "      <td>0.4414</td>\n",
       "      <td>0.6463</td>\n",
       "      <td>0.9772</td>\n",
       "      <td>1.1302</td>\n",
       "      <td>1.5777</td>\n",
       "      <td>2.5439</td>\n",
       "    </tr>\n",
       "    <tr>\n",
       "      <th>ppe_yoy</th>\n",
       "      <td>68.0000</td>\n",
       "      <td>1.2953</td>\n",
       "      <td>0.7026</td>\n",
       "      <td>0.5092</td>\n",
       "      <td>0.7018</td>\n",
       "      <td>1.0655</td>\n",
       "      <td>1.6954</td>\n",
       "      <td>3.5381</td>\n",
       "    </tr>\n",
       "    <tr>\n",
       "      <th>roe_4q_sum_yoy</th>\n",
       "      <td>68.0000</td>\n",
       "      <td>1.2919</td>\n",
       "      <td>0.3171</td>\n",
       "      <td>0.6002</td>\n",
       "      <td>1.1430</td>\n",
       "      <td>1.2514</td>\n",
       "      <td>1.4968</td>\n",
       "      <td>2.4785</td>\n",
       "    </tr>\n",
       "    <tr>\n",
       "      <th>dividend_1Y_sum_yield</th>\n",
       "      <td>68.0000</td>\n",
       "      <td>1.0300</td>\n",
       "      <td>0.7136</td>\n",
       "      <td>0.1816</td>\n",
       "      <td>0.4424</td>\n",
       "      <td>0.7718</td>\n",
       "      <td>1.5505</td>\n",
       "      <td>2.9979</td>\n",
       "    </tr>\n",
       "  </tbody>\n",
       "</table>\n",
       "</div>"
      ],
      "text/plain": [
       "                        count   mean    std    min    25%    50%    75%    max\n",
       "feature                                                                       \n",
       "excess_return         68.0000 6.0547 2.6034 0.8613 5.1541 6.5080 7.9617 9.6449\n",
       "dividend_3Y_sum_yield 68.0000 3.4282 2.0865 0.4175 1.7640 2.9927 5.4081 7.4012\n",
       "roe                   68.0000 3.2915 0.7745 1.2942 2.8133 3.7138 3.9348 4.1383\n",
       "ni_qoq                68.0000 3.1072 0.8089 0.6654 2.8437 3.3152 3.5688 4.3699\n",
       "tobins_q              68.0000 3.1016 1.2727 0.5609 2.5214 3.0731 4.0476 6.1974\n",
       "last_dividend_yield   65.0000 2.8112 1.2099 0.4787 2.0252 2.4257 4.0086 5.0758\n",
       "roe_yoy               68.0000 2.4990 1.0534 0.4509 1.8833 2.2832 3.4629 5.0157\n",
       "dividend_2Y_sum_yield 67.0000 2.3983 1.2720 0.3677 1.3046 2.5070 3.2357 4.8338\n",
       "roe_4q_sum            68.0000 1.9056 0.7282 0.9613 1.3659 1.5984 2.5602 3.3826\n",
       "asset_qoq             68.0000 1.7786 0.4260 0.5168 1.4914 1.8039 2.0916 3.0603\n",
       "asset_yoy             68.0000 1.7067 0.7640 0.7741 1.2479 1.5392 1.8999 4.5680\n",
       "ppe_qoq               68.0000 1.6117 0.5011 0.3424 1.3084 1.5505 1.9292 2.6931\n",
       "ni_yoy                68.0000 1.3465 0.4546 0.6062 1.0239 1.1868 1.7360 2.3231\n",
       "ocf / asset           68.0000 1.3001 0.4414 0.6463 0.9772 1.1302 1.5777 2.5439\n",
       "ppe_yoy               68.0000 1.2953 0.7026 0.5092 0.7018 1.0655 1.6954 3.5381\n",
       "roe_4q_sum_yoy        68.0000 1.2919 0.3171 0.6002 1.1430 1.2514 1.4968 2.4785\n",
       "dividend_1Y_sum_yield 68.0000 1.0300 0.7136 0.1816 0.4424 0.7718 1.5505 2.9979"
      ]
     },
     "execution_count": 62,
     "metadata": {},
     "output_type": "execute_result"
    }
   ],
   "source": [
    "df_feature_importance_all.groupby('feature')['importance'].describe().sort_values('mean', ascending=False)"
   ]
  },
  {
   "cell_type": "code",
   "execution_count": 79,
   "metadata": {},
   "outputs": [],
   "source": [
    "i = 0\n",
    "\n",
    "df_predict_describe_all = pd.DataFrame([])\n",
    "\n",
    "for i in range(len(reb_lst)):\n",
    "    df_predict = df_predict_all[df_predict_all['rebalance_date'] == reb_lst[i]].reset_index(drop=True).copy()\n",
    "    # calc predict qcut\n",
    "    df_predict['predict_qcut'] = pd.qcut(df_predict['predict'], 10, labels=False, duplicates='drop')\n",
    "    df_predict_describe = df_predict.groupby('predict_qcut')['y'].describe().reset_index()\n",
    "    df_predict_describe['date'] = reb_lst[i]\n",
    "    df_predict_describe_all = pd.concat([df_predict_describe_all, df_predict_describe], axis=0)"
   ]
  },
  {
   "cell_type": "code",
   "execution_count": 83,
   "metadata": {},
   "outputs": [
    {
     "data": {
      "text/html": [
       "<div>\n",
       "<style scoped>\n",
       "    .dataframe tbody tr th:only-of-type {\n",
       "        vertical-align: middle;\n",
       "    }\n",
       "\n",
       "    .dataframe tbody tr th {\n",
       "        vertical-align: top;\n",
       "    }\n",
       "\n",
       "    .dataframe thead th {\n",
       "        text-align: right;\n",
       "    }\n",
       "</style>\n",
       "<table border=\"1\" class=\"dataframe\">\n",
       "  <thead>\n",
       "    <tr style=\"text-align: right;\">\n",
       "      <th></th>\n",
       "      <th>count</th>\n",
       "      <th>mean</th>\n",
       "      <th>std</th>\n",
       "      <th>min</th>\n",
       "      <th>25%</th>\n",
       "      <th>50%</th>\n",
       "      <th>75%</th>\n",
       "      <th>max</th>\n",
       "    </tr>\n",
       "    <tr>\n",
       "      <th>predict_qcut</th>\n",
       "      <th></th>\n",
       "      <th></th>\n",
       "      <th></th>\n",
       "      <th></th>\n",
       "      <th></th>\n",
       "      <th></th>\n",
       "      <th></th>\n",
       "      <th></th>\n",
       "    </tr>\n",
       "  </thead>\n",
       "  <tbody>\n",
       "    <tr>\n",
       "      <th>9</th>\n",
       "      <td>68.0000</td>\n",
       "      <td>0.0478</td>\n",
       "      <td>0.1332</td>\n",
       "      <td>-0.1979</td>\n",
       "      <td>-0.0357</td>\n",
       "      <td>0.0299</td>\n",
       "      <td>0.1035</td>\n",
       "      <td>0.6154</td>\n",
       "    </tr>\n",
       "    <tr>\n",
       "      <th>8</th>\n",
       "      <td>68.0000</td>\n",
       "      <td>0.0223</td>\n",
       "      <td>0.1285</td>\n",
       "      <td>-0.2652</td>\n",
       "      <td>-0.0560</td>\n",
       "      <td>-0.0004</td>\n",
       "      <td>0.0559</td>\n",
       "      <td>0.5928</td>\n",
       "    </tr>\n",
       "    <tr>\n",
       "      <th>7</th>\n",
       "      <td>68.0000</td>\n",
       "      <td>0.0179</td>\n",
       "      <td>0.1184</td>\n",
       "      <td>-0.2467</td>\n",
       "      <td>-0.0447</td>\n",
       "      <td>-0.0044</td>\n",
       "      <td>0.0442</td>\n",
       "      <td>0.5431</td>\n",
       "    </tr>\n",
       "    <tr>\n",
       "      <th>6</th>\n",
       "      <td>68.0000</td>\n",
       "      <td>0.0123</td>\n",
       "      <td>0.1169</td>\n",
       "      <td>-0.2340</td>\n",
       "      <td>-0.0560</td>\n",
       "      <td>-0.0079</td>\n",
       "      <td>0.0399</td>\n",
       "      <td>0.5562</td>\n",
       "    </tr>\n",
       "    <tr>\n",
       "      <th>5</th>\n",
       "      <td>68.0000</td>\n",
       "      <td>0.0102</td>\n",
       "      <td>0.1191</td>\n",
       "      <td>-0.2347</td>\n",
       "      <td>-0.0591</td>\n",
       "      <td>-0.0128</td>\n",
       "      <td>0.0332</td>\n",
       "      <td>0.5868</td>\n",
       "    </tr>\n",
       "    <tr>\n",
       "      <th>4</th>\n",
       "      <td>68.0000</td>\n",
       "      <td>0.0042</td>\n",
       "      <td>0.1111</td>\n",
       "      <td>-0.2359</td>\n",
       "      <td>-0.0602</td>\n",
       "      <td>-0.0170</td>\n",
       "      <td>0.0279</td>\n",
       "      <td>0.4952</td>\n",
       "    </tr>\n",
       "    <tr>\n",
       "      <th>3</th>\n",
       "      <td>68.0000</td>\n",
       "      <td>-0.0003</td>\n",
       "      <td>0.1142</td>\n",
       "      <td>-0.2284</td>\n",
       "      <td>-0.0603</td>\n",
       "      <td>-0.0241</td>\n",
       "      <td>0.0234</td>\n",
       "      <td>0.5308</td>\n",
       "    </tr>\n",
       "    <tr>\n",
       "      <th>2</th>\n",
       "      <td>68.0000</td>\n",
       "      <td>-0.0021</td>\n",
       "      <td>0.1085</td>\n",
       "      <td>-0.2173</td>\n",
       "      <td>-0.0659</td>\n",
       "      <td>-0.0267</td>\n",
       "      <td>0.0221</td>\n",
       "      <td>0.4613</td>\n",
       "    </tr>\n",
       "    <tr>\n",
       "      <th>1</th>\n",
       "      <td>68.0000</td>\n",
       "      <td>-0.0047</td>\n",
       "      <td>0.1078</td>\n",
       "      <td>-0.2028</td>\n",
       "      <td>-0.0618</td>\n",
       "      <td>-0.0237</td>\n",
       "      <td>0.0150</td>\n",
       "      <td>0.4182</td>\n",
       "    </tr>\n",
       "    <tr>\n",
       "      <th>0</th>\n",
       "      <td>68.0000</td>\n",
       "      <td>-0.0072</td>\n",
       "      <td>0.1157</td>\n",
       "      <td>-0.2315</td>\n",
       "      <td>-0.0733</td>\n",
       "      <td>-0.0237</td>\n",
       "      <td>0.0191</td>\n",
       "      <td>0.3949</td>\n",
       "    </tr>\n",
       "  </tbody>\n",
       "</table>\n",
       "</div>"
      ],
      "text/plain": [
       "               count    mean    std     min     25%     50%    75%    max\n",
       "predict_qcut                                                             \n",
       "9            68.0000  0.0478 0.1332 -0.1979 -0.0357  0.0299 0.1035 0.6154\n",
       "8            68.0000  0.0223 0.1285 -0.2652 -0.0560 -0.0004 0.0559 0.5928\n",
       "7            68.0000  0.0179 0.1184 -0.2467 -0.0447 -0.0044 0.0442 0.5431\n",
       "6            68.0000  0.0123 0.1169 -0.2340 -0.0560 -0.0079 0.0399 0.5562\n",
       "5            68.0000  0.0102 0.1191 -0.2347 -0.0591 -0.0128 0.0332 0.5868\n",
       "4            68.0000  0.0042 0.1111 -0.2359 -0.0602 -0.0170 0.0279 0.4952\n",
       "3            68.0000 -0.0003 0.1142 -0.2284 -0.0603 -0.0241 0.0234 0.5308\n",
       "2            68.0000 -0.0021 0.1085 -0.2173 -0.0659 -0.0267 0.0221 0.4613\n",
       "1            68.0000 -0.0047 0.1078 -0.2028 -0.0618 -0.0237 0.0150 0.4182\n",
       "0            68.0000 -0.0072 0.1157 -0.2315 -0.0733 -0.0237 0.0191 0.3949"
      ]
     },
     "execution_count": 83,
     "metadata": {},
     "output_type": "execute_result"
    }
   ],
   "source": [
    "df_predict_describe_all.groupby('predict_qcut')['mean'].describe().sort_values('mean', ascending=False)"
   ]
  },
  {
   "cell_type": "code",
   "execution_count": 108,
   "metadata": {},
   "outputs": [],
   "source": [
    "df_predict_all = df_predict_all[df_predict_all['date'].isin(reb_lst)]\n",
    "df_predict_all['predict_group'] = df_predict_all.groupby('date',group_keys=False)['predict'].apply(lambda x :pd.qcut(x,10,labels=False))\n",
    "df_predict_all['predict_rank'] = df_predict_all.groupby('date',group_keys=False)['predict'].rank(ascending=False)\n",
    "df_select = df_predict_all[df_predict_all['predict_rank']<=50]\n",
    "df_select_return = df_select.groupby('date')['y'].mean()"
   ]
  },
  {
   "cell_type": "code",
   "execution_count": 113,
   "metadata": {},
   "outputs": [
    {
     "data": {
      "text/plain": [
       "0.9572616762161311"
      ]
     },
     "execution_count": 113,
     "metadata": {},
     "output_type": "execute_result"
    }
   ],
   "source": [
    "(df_select_return+1).cumprod()\n",
    "((df_select_return+1).prod()**(4/len(b))-1 )/(df_select_return.std()*np.sqrt(4))"
   ]
  },
  {
   "cell_type": "code",
   "execution_count": 114,
   "metadata": {},
   "outputs": [
    {
     "data": {
      "text/plain": [
       "0.3338935551096162"
      ]
     },
     "execution_count": 114,
     "metadata": {},
     "output_type": "execute_result"
    }
   ],
   "source": [
    "(df_select_return.std()*np.sqrt(4))"
   ]
  },
  {
   "cell_type": "code",
   "execution_count": 115,
   "metadata": {},
   "outputs": [
    {
     "data": {
      "text/plain": [
       "0.31962350424199437"
      ]
     },
     "execution_count": 115,
     "metadata": {},
     "output_type": "execute_result"
    }
   ],
   "source": [
    "(df_select_return+1).prod()**(4/len(b))-1 "
   ]
  },
  {
   "cell_type": "code",
   "execution_count": 111,
   "metadata": {},
   "outputs": [
    {
     "data": {
      "text/plain": [
       "date\n",
       "2006-01-16     1.1533\n",
       "2006-04-17     1.3142\n",
       "2006-07-17     1.3483\n",
       "2006-10-16     1.1831\n",
       "2007-01-15     1.1389\n",
       "2007-04-16     1.0911\n",
       "2007-07-16     1.4533\n",
       "2007-10-15     1.8701\n",
       "2008-01-15     2.1185\n",
       "2008-04-15     3.2982\n",
       "2008-07-15     6.0700\n",
       "2008-10-15     6.6749\n",
       "2009-01-15     4.9593\n",
       "2009-04-15     5.7864\n",
       "2009-07-15     4.9914\n",
       "2009-10-15     4.6180\n",
       "2010-01-15     4.7139\n",
       "2010-04-15     5.3286\n",
       "2010-07-15     5.7731\n",
       "2010-10-15     5.7633\n",
       "2011-01-17     6.0854\n",
       "2011-04-15     7.8719\n",
       "2011-07-15     9.7953\n",
       "2011-10-17    11.3948\n",
       "2012-01-16    10.8630\n",
       "2012-04-16    12.7396\n",
       "2012-07-16    13.3553\n",
       "2012-10-15    13.6489\n",
       "2013-01-15    14.3634\n",
       "2013-04-15    13.0680\n",
       "2013-07-15    13.7362\n",
       "2013-10-15    13.2224\n",
       "2014-01-15    11.6263\n",
       "2014-04-15    11.3806\n",
       "2014-07-15    13.5162\n",
       "2014-10-15    12.5686\n",
       "2015-01-15    13.5240\n",
       "2015-04-15    17.2388\n",
       "2015-07-15    18.7396\n",
       "2015-10-15    21.1381\n",
       "2016-01-15    20.3034\n",
       "2016-04-15    20.5454\n",
       "2016-07-15    22.5331\n",
       "2016-10-17    22.5973\n",
       "2017-01-16    23.3961\n",
       "2017-04-17    23.0772\n",
       "2017-07-17    22.3772\n",
       "2017-10-16    26.3752\n",
       "2018-01-15    29.1707\n",
       "2018-04-16    33.3086\n",
       "2018-07-16    45.9052\n",
       "2018-10-15    47.1244\n",
       "2019-01-15    46.6459\n",
       "2019-04-15    53.2647\n",
       "2019-07-15    56.2458\n",
       "2019-10-15    57.3150\n",
       "2020-01-15    71.6884\n",
       "2020-04-15    59.7733\n",
       "2020-07-15    67.1695\n",
       "2020-10-15    72.3440\n",
       "2021-01-15    68.2375\n",
       "2021-04-15    74.4754\n",
       "2021-07-15    85.8468\n",
       "2021-10-15    75.5088\n",
       "2022-01-17    86.6886\n",
       "2022-04-15   101.0799\n",
       "2022-07-15   123.2103\n",
       "2022-10-17   111.5965\n",
       "Name: y, dtype: float64"
      ]
     },
     "execution_count": 111,
     "metadata": {},
     "output_type": "execute_result"
    }
   ],
   "source": [
    "(df_select_return+1).cumprod()"
   ]
  },
  {
   "cell_type": "code",
   "execution_count": 102,
   "metadata": {},
   "outputs": [],
   "source": [
    "a = df_predict_all.groupby(['date','predict_group'])['y'].mean().reset_index()\n",
    "b = a.pivot(index='date', columns='predict_group', values='y')"
   ]
  },
  {
   "cell_type": "code",
   "execution_count": 117,
   "metadata": {},
   "outputs": [
    {
     "data": {
      "text/plain": [
       "<Axes: xlabel='date'>"
      ]
     },
     "execution_count": 117,
     "metadata": {},
     "output_type": "execute_result"
    },
    {
     "data": {
      "image/png": "[encoded data removed]",
      "text/plain": [
       "<Figure size 640x480 with 1 Axes>"
      ]
     },
     "metadata": {},
     "output_type": "display_data"
    }
   ],
   "source": [
    "(b+1).cumprod().plot()"
   ]
  },
  {
   "cell_type": "code",
   "execution_count": 104,
   "metadata": {},
   "outputs": [
    {
     "data": {
      "text/plain": [
       "predict_group\n",
       "0   -0.0522\n",
       "1   -0.0583\n",
       "2   -0.0455\n",
       "3   -0.0162\n",
       "4   -0.0222\n",
       "5    0.0054\n",
       "6    0.0312\n",
       "7    0.0685\n",
       "8    0.1051\n",
       "9    0.2564\n",
       "dtype: float64"
      ]
     },
     "execution_count": 104,
     "metadata": {},
     "output_type": "execute_result"
    }
   ],
   "source": [
    "(b+1).prod()**(4/len(b))-1"
   ]
  },
  {
   "cell_type": "code",
   "execution_count": 53,
   "metadata": {},
   "outputs": [
    {
     "data": {
      "text/plain": [
       "<Axes: ylabel='Frequency'>"
      ]
     },
     "execution_count": 53,
     "metadata": {},
     "output_type": "execute_result"
    },
    {
     "data": {
      "image/png": "[encoded data removed]",
      "text/plain": [
       "<Figure size 640x480 with 1 Axes>"
      ]
     },
     "metadata": {},
     "output_type": "display_data"
    }
   ],
   "source": [
    "df_predict_all['predict'].plot.hist(bins=1000)"
   ]
  },
  {
   "cell_type": "code",
   "execution_count": 52,
   "metadata": {},
   "outputs": [
    {
     "data": {
      "text/plain": [
       "<Axes: ylabel='Frequency'>"
      ]
     },
     "execution_count": 52,
     "metadata": {},
     "output_type": "execute_result"
    },
    {
     "data": {
      "image/png": "[encoded data removed]",
      "text/plain": [
       "<Figure size 640x480 with 1 Axes>"
      ]
     },
     "metadata": {},
     "output_type": "display_data"
    }
   ],
   "source": [
    "df_predict_all['y'].plot.hist(bins=1000)"
   ]
  },
  {
   "cell_type": "code",
   "execution_count": 49,
   "metadata": {},
   "outputs": [
    {
     "data": {
      "text/plain": [
       "<Axes: xlabel='predict', ylabel='y'>"
      ]
     },
     "execution_count": 49,
     "metadata": {},
     "output_type": "execute_result"
    },
    {
     "data": {
      "image/png": "[encoded data removed]",
      "text/plain": [
       "<Figure size 1000x1000 with 1 Axes>"
      ]
     },
     "metadata": {},
     "output_type": "display_data"
    }
   ],
   "source": [
    "df_predict_all[['predict','y']].plot.scatter(x='predict', y='y', figsize=(10,10))"
   ]
  },
  {
   "cell_type": "code",
   "execution_count": null,
   "metadata": {},
   "outputs": [],
   "source": []
  }
 ],
 "metadata": {
  "kernelspec": {
   "display_name": "venv",
   "language": "python",
   "name": "python3"
  },
  "language_info": {
   "codemirror_mode": {
    "name": "ipython",
    "version": 3
   },
   "file_extension": ".py",
   "mimetype": "text/x-python",
   "name": "python",
   "nbconvert_exporter": "python",
   "pygments_lexer": "ipython3",
   "version": "3.11.4"
  },
  "orig_nbformat": 4
 },
 "nbformat": 4,
 "nbformat_minor": 2
}
