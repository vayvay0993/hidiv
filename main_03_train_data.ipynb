{
 "cells": [
  {
   "cell_type": "code",
   "execution_count": 1,
   "metadata": {},
   "outputs": [],
   "source": [
    "import pandas as pd\n",
    "import numpy as np\n",
    "from copy import deepcopy\n",
    "import sys\n",
    "import numpy as np\n",
    "from sklearn.model_selection import GridSearchCV\n",
    "from xgboost import XGBRegressor\n",
    "\n",
    "from importlib import reload\n",
    "\n",
    "import src.cathay_db as db\n",
    "import src.utils as ut\n",
    "import src.financial_statement as fs\n",
    "\n",
    "reload(ut)\n",
    "reload(fs)\n",
    "import matplotlib.pyplot as plt\n",
    "import datetime\n",
    "import os\n",
    "\n",
    "sys.path.append(\"./src\")\n",
    "\n",
    "from toolbox import print_progress_bar\n",
    "\n",
    "# set max display rows\n",
    "pd.set_option(\"display.max_rows\", 200)\n",
    "\n",
    "# set max display columns\n",
    "pd.set_option(\"display.max_columns\", 100)\n",
    "\n",
    "# Set the float format to display without scientific notation\n",
    "pd.options.display.float_format = '{:.4f}'.format\n",
    "\n",
    "import json"
   ]
  },
  {
   "attachments": {},
   "cell_type": "markdown",
   "metadata": {},
   "source": [
    "# 1. Read data from feather file"
   ]
  },
  {
   "cell_type": "code",
   "execution_count": 20,
   "metadata": {},
   "outputs": [],
   "source": [
    "# # following is data from tej\n",
    "# df_adjusted_price = pd.read_feather('data/tej_adjusted_price.feather')\n",
    "\n",
    "# # following is data from cmoney\n",
    "# df_price = pd.read_feather('data/cmoney_price.feather')\n",
    "# df_company_info = pd.read_feather('data/cmoney_company_info.feather')\n",
    "\n",
    "# ticker_list = np.sort(pd.unique(df_company_info['股票代號']))\n",
    "\n",
    "# df_price = ut.cmoney_data_clean_up(df_price)\n",
    "# df_price = deepcopy(df_price[df_price['股票代號'].isin(ticker_list)])\n",
    "\n",
    "# df_adjusted_price = ut.tej_data_clean_up(df_adjusted_price)\n",
    "# df_adjusted_price = deepcopy(df_adjusted_price[df_adjusted_price['股票代號'].isin(ticker_list)])"
   ]
  },
  {
   "cell_type": "code",
   "execution_count": 2,
   "metadata": {},
   "outputs": [],
   "source": [
    "df_factor_all = pd.read_feather('data/df_factor_all.feather')\n",
    "df_factor_all = df_factor_all[df_factor_all['date'] >= '2004-01-01']\n",
    "\n",
    "df_factor_all.sort_values(['ticker', 'date'], inplace=True)\n",
    "# get price 62 days later\n",
    "df_factor_all['price_62d'] = df_factor_all.groupby('ticker', as_index=False, group_keys=False)['price'].shift(-62)\n",
    "df_factor_all['y'] = df_factor_all['price_62d'] / df_factor_all['price'] - 1\n",
    "\n",
    "# Calculate mean and standard deviation\n",
    "df_factor_all['y_std'] = df_factor_all.groupby('date')['y'].transform('std')\n",
    "df_factor_all['y_mean'] = df_factor_all.groupby('date')['y'].transform('mean')\n",
    "\n",
    "# Create upper and lower bounds\n",
    "df_factor_all['upper'] = df_factor_all['y_mean'] + 5 * df_factor_all['y_std']\n",
    "df_factor_all['lower'] = df_factor_all['y_mean'] - 5 * df_factor_all['y_std']\n",
    "\n",
    "# Truncate 'y' based on the bounds\n",
    "df_factor_all['y_truncated'] = np.where(df_factor_all['y'] > df_factor_all['upper'], df_factor_all['upper'], \n",
    "                              np.where(df_factor_all['y'] < df_factor_all['lower'], df_factor_all['lower'], df_factor_all['y']))\n",
    "\n",
    "# truncate the max value larger than 5 * std + mean to 5 * std + mean\n",
    "# df_factor_all['y_truncated_max'] = df_factor_all.groupby('date', as_index=False, group_keys=False)['y'].apply(lambda x: np.where(x > x.mean() + 5 * x.std() , x.mean() + 5 * x.std() , x))['y']\n",
    "# truncate the min value smaller than mean - 5 * std  to mean - 5 * std\n",
    "# df_factor_all['y_truncated_max_min'] = df_factor_all.groupby('date', as_index=False, group_keys=False)['y_truncated_max'].apply(lambda x: np.where(x < x.mean() - 5 * x.std(), x.mean() - 5 * x.std(), x))['y_truncated_max']\n",
    "# normalize the y_truncated\n",
    "\n",
    "# group by date and ticker and normalize the y\n",
    "df_factor_all['y_norm_truncated'] = df_factor_all.groupby('date', as_index=False, group_keys=False)['y_truncated'].apply(lambda x: (x - x.mean()) / x.std())\n",
    "\n",
    "# replace inf with 9999\n",
    "df_factor_all.replace([np.inf], 9999, inplace=True)\n",
    "df_factor_all.replace([-np.inf], -9999, inplace=True)\n",
    "\n",
    "# create a y_rank to rank the y_norm_truncated\n",
    "df_factor_all['y_rank'] = df_factor_all.groupby('date', as_index=False, group_keys=False)['y_truncated'].rank(ascending=False, pct=True)\n",
    "\n",
    "df_factor_all['sample_weight'] = 1\n",
    "df_factor_all['sample_weight'] = df_factor_all['sample_weight'].mask(df_factor_all['y_rank']<=0.2, 3)\n",
    "df_factor_all['sample_weight'] = df_factor_all['sample_weight'].mask(df_factor_all['y_rank']>=0.8, 3)\n",
    "# name the folder by current date and time\n",
    "# folder_name = datetime.datetime.now().strftime(\"%Y%m%d_%H%M%S\")\n",
    "folder_name = '20230724_091431'\n",
    "\n",
    "# create a folder to store the model if not exist\n",
    "if not os.path.exists(f'data/model/{folder_name}'):\n",
    "    os.makedirs(f'data/model/{folder_name}')\n",
    "\n",
    "df_factor_all.reset_index(drop=True, inplace=True)\n",
    "\n",
    "# save the df_factor_all as a feather file\n",
    "df_factor_all.to_feather(f'data/model/{folder_name}/df_factor_all_testing.feather')"
   ]
  },
  {
   "cell_type": "code",
   "execution_count": 22,
   "metadata": {},
   "outputs": [
    {
     "data": {
      "text/plain": [
       "<Axes: >"
      ]
     },
     "execution_count": 22,
     "metadata": {},
     "output_type": "execute_result"
    },
    {
     "data": {
      "image/png": "[encoded data removed]",
      "text/plain": [
       "<Figure size 640x480 with 1 Axes>"
      ]
     },
     "metadata": {},
     "output_type": "display_data"
    }
   ],
   "source": [
    "# plot the distribution of y\n",
    "df_factor_all['y_norm_truncated'].hist(bins=100)"
   ]
  },
  {
   "cell_type": "code",
   "execution_count": 23,
   "metadata": {},
   "outputs": [
    {
     "data": {
      "text/plain": [
       "<Axes: >"
      ]
     },
     "execution_count": 23,
     "metadata": {},
     "output_type": "execute_result"
    },
    {
     "data": {
      "image/png": "[encoded data removed]",
      "text/plain": [
       "<Figure size 640x480 with 1 Axes>"
      ]
     },
     "metadata": {},
     "output_type": "display_data"
    }
   ],
   "source": [
    "# plot the distribution of y\n",
    "df_factor_all['y_truncated'].hist(bins=100)"
   ]
  },
  {
   "cell_type": "code",
   "execution_count": 24,
   "metadata": {},
   "outputs": [],
   "source": [
    "def get_rebalance_date(date_list, start_date, end_date, freq='Q'):\n",
    "    next_four_seasons = [start_date]\n",
    "    rebalance_date = start_date\n",
    "    i = 0\n",
    "    while rebalance_date < end_date:\n",
    "        if freq == 'Q':\n",
    "            rebalance_date = start_date + pd.DateOffset(months=3 * (i + 1))\n",
    "        elif freq == 'M':\n",
    "            rebalance_date = start_date + pd.DateOffset(months=1 * (i + 1))\n",
    "        elif freq == 'Y':\n",
    "            rebalance_date = start_date + pd.DateOffset(years=1 * (i + 1))\n",
    "\n",
    "        # check if rebalance_date is in date_list\n",
    "        if rebalance_date in date_list:\n",
    "            next_four_seasons.append(rebalance_date)\n",
    "        else:\n",
    "            # if not, find the next date in date_list\n",
    "            for date in date_list:\n",
    "                if date > rebalance_date:\n",
    "                    # chang np.datetime64 to pd.Timestamp\n",
    "                    rebalance_date = pd.Timestamp(date)\n",
    "                    next_four_seasons.append(rebalance_date)\n",
    "                    break\n",
    "        i += 1\n",
    "    return next_four_seasons"
   ]
  },
  {
   "cell_type": "code",
   "execution_count": 25,
   "metadata": {},
   "outputs": [],
   "source": [
    "date_list = np.sort(pd.unique(df_factor_all['date']))"
   ]
  },
  {
   "cell_type": "code",
   "execution_count": 26,
   "metadata": {},
   "outputs": [],
   "source": [
    "rebalance_date_lst = get_rebalance_date(date_list, pd.to_datetime('2004-02-25'), pd.to_datetime('2023-5-25'), freq='Q')"
   ]
  },
  {
   "cell_type": "code",
   "execution_count": 27,
   "metadata": {},
   "outputs": [
    {
     "name": "stdout",
     "output_type": "stream",
     "text": [
      "['asset_qoq', 'asset_yoy', 'ni_qoq', 'ni_yoy', 'roe', 'roe_yoy', 'roe_4q_sum', 'roe_4q_sum_yoy', 'tobins_q', 'ocf / asset', '20_d_return', '40_d_return', '60_d_return', 'dividend_1Y_sum_yield', 'dividend_2Y_sum_yield', 'dividend_3Y_sum_yield', 'last_dividend_yield']\n"
     ]
    }
   ],
   "source": [
    "factor_columns = df_factor_all.columns.tolist()\n",
    "factor_columns.remove('date')\n",
    "factor_columns.remove('ticker')\n",
    "factor_columns.remove('price')\n",
    "factor_columns.remove('y')\n",
    "factor_columns.remove('y_std')\n",
    "factor_columns.remove('y_mean')\n",
    "factor_columns.remove('upper')\n",
    "factor_columns.remove('lower')\n",
    "factor_columns.remove('price_62d')\n",
    "factor_columns.remove('y_truncated')\n",
    "factor_columns.remove('y_norm_truncated')\n",
    "factor_columns.remove('y_rank')\n",
    "factor_columns.remove('sample_weight')\n",
    "factor_columns.remove('ppe_qoq')\n",
    "factor_columns.remove('ppe_yoy')\n",
    "factor_columns.remove('excess_return')\n",
    "factor_columns.remove('market_cap')\n",
    "print(factor_columns)"
   ]
  },
  {
   "cell_type": "code",
   "execution_count": 28,
   "metadata": {},
   "outputs": [],
   "source": [
    "target_cols = ['y_norm_truncated']\n",
    "df_factor_all = df_factor_all.dropna(subset=factor_columns + target_cols, how='any')"
   ]
  },
  {
   "cell_type": "code",
   "execution_count": 30,
   "metadata": {},
   "outputs": [
    {
     "name": "stdout",
     "output_type": "stream",
     "text": [
      "2005-02-25 00:00:00\n"
     ]
    }
   ],
   "source": [
    "start_index = 4\n",
    "\n",
    "print(rebalance_date_lst[start_index])"
   ]
  },
  {
   "cell_type": "code",
   "execution_count": 31,
   "metadata": {},
   "outputs": [
    {
     "name": "stdout",
     "output_type": "stream",
     "text": [
      "Progress: |███████-------------------------------------------| 15.1% Complete. Current train data length: 11677\r"
     ]
    },
    {
     "ename": "KeyboardInterrupt",
     "evalue": "",
     "output_type": "error",
     "traceback": [
      "\u001b[1;31m---------------------------------------------------------------------------\u001b[0m",
      "\u001b[1;31mKeyboardInterrupt\u001b[0m                         Traceback (most recent call last)",
      "Cell \u001b[1;32mIn[31], line 44\u001b[0m\n\u001b[0;32m     39\u001b[0m model_stock \u001b[39m=\u001b[39m XGBRegressor()\n\u001b[0;32m     40\u001b[0m gscv \u001b[39m=\u001b[39m GridSearchCV(\n\u001b[0;32m     41\u001b[0m     model_stock, param_search, refit\u001b[39m=\u001b[39m\u001b[39mTrue\u001b[39;00m, scoring\u001b[39m=\u001b[39m\u001b[39m\"\u001b[39m\u001b[39mneg_root_mean_squared_error\u001b[39m\u001b[39m\"\u001b[39m\n\u001b[0;32m     42\u001b[0m )\n\u001b[1;32m---> 44\u001b[0m gscv\u001b[39m.\u001b[39;49mfit(df_factor_all_train[factor_columns], df_factor_all_train[target_cols], \u001b[39m*\u001b[39;49m\u001b[39m*\u001b[39;49mfit_params)\n\u001b[0;32m     45\u001b[0m \u001b[39m# timestamp to string format for saving model\u001b[39;00m\n\u001b[0;32m     46\u001b[0m rebalance_date \u001b[39m=\u001b[39m rebalance_date\u001b[39m.\u001b[39mstrftime(\u001b[39m\"\u001b[39m\u001b[39m%\u001b[39m\u001b[39mY\u001b[39m\u001b[39m%\u001b[39m\u001b[39mm\u001b[39m\u001b[39m%d\u001b[39;00m\u001b[39m\"\u001b[39m)\n",
      "File \u001b[1;32md:\\Vay\\hidiv\\venv\\Lib\\site-packages\\sklearn\\base.py:1151\u001b[0m, in \u001b[0;36m_fit_context.<locals>.decorator.<locals>.wrapper\u001b[1;34m(estimator, *args, **kwargs)\u001b[0m\n\u001b[0;32m   1144\u001b[0m     estimator\u001b[39m.\u001b[39m_validate_params()\n\u001b[0;32m   1146\u001b[0m \u001b[39mwith\u001b[39;00m config_context(\n\u001b[0;32m   1147\u001b[0m     skip_parameter_validation\u001b[39m=\u001b[39m(\n\u001b[0;32m   1148\u001b[0m         prefer_skip_nested_validation \u001b[39mor\u001b[39;00m global_skip_validation\n\u001b[0;32m   1149\u001b[0m     )\n\u001b[0;32m   1150\u001b[0m ):\n\u001b[1;32m-> 1151\u001b[0m     \u001b[39mreturn\u001b[39;00m fit_method(estimator, \u001b[39m*\u001b[39;49margs, \u001b[39m*\u001b[39;49m\u001b[39m*\u001b[39;49mkwargs)\n",
      "File \u001b[1;32md:\\Vay\\hidiv\\venv\\Lib\\site-packages\\sklearn\\model_selection\\_search.py:898\u001b[0m, in \u001b[0;36mBaseSearchCV.fit\u001b[1;34m(self, X, y, groups, **fit_params)\u001b[0m\n\u001b[0;32m    892\u001b[0m     results \u001b[39m=\u001b[39m \u001b[39mself\u001b[39m\u001b[39m.\u001b[39m_format_results(\n\u001b[0;32m    893\u001b[0m         all_candidate_params, n_splits, all_out, all_more_results\n\u001b[0;32m    894\u001b[0m     )\n\u001b[0;32m    896\u001b[0m     \u001b[39mreturn\u001b[39;00m results\n\u001b[1;32m--> 898\u001b[0m \u001b[39mself\u001b[39;49m\u001b[39m.\u001b[39;49m_run_search(evaluate_candidates)\n\u001b[0;32m    900\u001b[0m \u001b[39m# multimetric is determined here because in the case of a callable\u001b[39;00m\n\u001b[0;32m    901\u001b[0m \u001b[39m# self.scoring the return type is only known after calling\u001b[39;00m\n\u001b[0;32m    902\u001b[0m first_test_score \u001b[39m=\u001b[39m all_out[\u001b[39m0\u001b[39m][\u001b[39m\"\u001b[39m\u001b[39mtest_scores\u001b[39m\u001b[39m\"\u001b[39m]\n",
      "File \u001b[1;32md:\\Vay\\hidiv\\venv\\Lib\\site-packages\\sklearn\\model_selection\\_search.py:1419\u001b[0m, in \u001b[0;36mGridSearchCV._run_search\u001b[1;34m(self, evaluate_candidates)\u001b[0m\n\u001b[0;32m   1417\u001b[0m \u001b[39mdef\u001b[39;00m \u001b[39m_run_search\u001b[39m(\u001b[39mself\u001b[39m, evaluate_candidates):\n\u001b[0;32m   1418\u001b[0m \u001b[39m    \u001b[39m\u001b[39m\"\"\"Search all candidates in param_grid\"\"\"\u001b[39;00m\n\u001b[1;32m-> 1419\u001b[0m     evaluate_candidates(ParameterGrid(\u001b[39mself\u001b[39;49m\u001b[39m.\u001b[39;49mparam_grid))\n",
      "File \u001b[1;32md:\\Vay\\hidiv\\venv\\Lib\\site-packages\\sklearn\\model_selection\\_search.py:845\u001b[0m, in \u001b[0;36mBaseSearchCV.fit.<locals>.evaluate_candidates\u001b[1;34m(candidate_params, cv, more_results)\u001b[0m\n\u001b[0;32m    837\u001b[0m \u001b[39mif\u001b[39;00m \u001b[39mself\u001b[39m\u001b[39m.\u001b[39mverbose \u001b[39m>\u001b[39m \u001b[39m0\u001b[39m:\n\u001b[0;32m    838\u001b[0m     \u001b[39mprint\u001b[39m(\n\u001b[0;32m    839\u001b[0m         \u001b[39m\"\u001b[39m\u001b[39mFitting \u001b[39m\u001b[39m{0}\u001b[39;00m\u001b[39m folds for each of \u001b[39m\u001b[39m{1}\u001b[39;00m\u001b[39m candidates,\u001b[39m\u001b[39m\"\u001b[39m\n\u001b[0;32m    840\u001b[0m         \u001b[39m\"\u001b[39m\u001b[39m totalling \u001b[39m\u001b[39m{2}\u001b[39;00m\u001b[39m fits\u001b[39m\u001b[39m\"\u001b[39m\u001b[39m.\u001b[39mformat(\n\u001b[0;32m    841\u001b[0m             n_splits, n_candidates, n_candidates \u001b[39m*\u001b[39m n_splits\n\u001b[0;32m    842\u001b[0m         )\n\u001b[0;32m    843\u001b[0m     )\n\u001b[1;32m--> 845\u001b[0m out \u001b[39m=\u001b[39m parallel(\n\u001b[0;32m    846\u001b[0m     delayed(_fit_and_score)(\n\u001b[0;32m    847\u001b[0m         clone(base_estimator),\n\u001b[0;32m    848\u001b[0m         X,\n\u001b[0;32m    849\u001b[0m         y,\n\u001b[0;32m    850\u001b[0m         train\u001b[39m=\u001b[39;49mtrain,\n\u001b[0;32m    851\u001b[0m         test\u001b[39m=\u001b[39;49mtest,\n\u001b[0;32m    852\u001b[0m         parameters\u001b[39m=\u001b[39;49mparameters,\n\u001b[0;32m    853\u001b[0m         split_progress\u001b[39m=\u001b[39;49m(split_idx, n_splits),\n\u001b[0;32m    854\u001b[0m         candidate_progress\u001b[39m=\u001b[39;49m(cand_idx, n_candidates),\n\u001b[0;32m    855\u001b[0m         \u001b[39m*\u001b[39;49m\u001b[39m*\u001b[39;49mfit_and_score_kwargs,\n\u001b[0;32m    856\u001b[0m     )\n\u001b[0;32m    857\u001b[0m     \u001b[39mfor\u001b[39;49;00m (cand_idx, parameters), (split_idx, (train, test)) \u001b[39min\u001b[39;49;00m product(\n\u001b[0;32m    858\u001b[0m         \u001b[39menumerate\u001b[39;49m(candidate_params), \u001b[39menumerate\u001b[39;49m(cv\u001b[39m.\u001b[39;49msplit(X, y, groups))\n\u001b[0;32m    859\u001b[0m     )\n\u001b[0;32m    860\u001b[0m )\n\u001b[0;32m    862\u001b[0m \u001b[39mif\u001b[39;00m \u001b[39mlen\u001b[39m(out) \u001b[39m<\u001b[39m \u001b[39m1\u001b[39m:\n\u001b[0;32m    863\u001b[0m     \u001b[39mraise\u001b[39;00m \u001b[39mValueError\u001b[39;00m(\n\u001b[0;32m    864\u001b[0m         \u001b[39m\"\u001b[39m\u001b[39mNo fits were performed. \u001b[39m\u001b[39m\"\u001b[39m\n\u001b[0;32m    865\u001b[0m         \u001b[39m\"\u001b[39m\u001b[39mWas the CV iterator empty? \u001b[39m\u001b[39m\"\u001b[39m\n\u001b[0;32m    866\u001b[0m         \u001b[39m\"\u001b[39m\u001b[39mWere there no candidates?\u001b[39m\u001b[39m\"\u001b[39m\n\u001b[0;32m    867\u001b[0m     )\n",
      "File \u001b[1;32md:\\Vay\\hidiv\\venv\\Lib\\site-packages\\sklearn\\utils\\parallel.py:65\u001b[0m, in \u001b[0;36mParallel.__call__\u001b[1;34m(self, iterable)\u001b[0m\n\u001b[0;32m     60\u001b[0m config \u001b[39m=\u001b[39m get_config()\n\u001b[0;32m     61\u001b[0m iterable_with_config \u001b[39m=\u001b[39m (\n\u001b[0;32m     62\u001b[0m     (_with_config(delayed_func, config), args, kwargs)\n\u001b[0;32m     63\u001b[0m     \u001b[39mfor\u001b[39;00m delayed_func, args, kwargs \u001b[39min\u001b[39;00m iterable\n\u001b[0;32m     64\u001b[0m )\n\u001b[1;32m---> 65\u001b[0m \u001b[39mreturn\u001b[39;00m \u001b[39msuper\u001b[39;49m()\u001b[39m.\u001b[39;49m\u001b[39m__call__\u001b[39;49m(iterable_with_config)\n",
      "File \u001b[1;32md:\\Vay\\hidiv\\venv\\Lib\\site-packages\\joblib\\parallel.py:1855\u001b[0m, in \u001b[0;36mParallel.__call__\u001b[1;34m(self, iterable)\u001b[0m\n\u001b[0;32m   1853\u001b[0m     output \u001b[39m=\u001b[39m \u001b[39mself\u001b[39m\u001b[39m.\u001b[39m_get_sequential_output(iterable)\n\u001b[0;32m   1854\u001b[0m     \u001b[39mnext\u001b[39m(output)\n\u001b[1;32m-> 1855\u001b[0m     \u001b[39mreturn\u001b[39;00m output \u001b[39mif\u001b[39;00m \u001b[39mself\u001b[39m\u001b[39m.\u001b[39mreturn_generator \u001b[39melse\u001b[39;00m \u001b[39mlist\u001b[39m(output)\n\u001b[0;32m   1857\u001b[0m \u001b[39m# Let's create an ID that uniquely identifies the current call. If the\u001b[39;00m\n\u001b[0;32m   1858\u001b[0m \u001b[39m# call is interrupted early and that the same instance is immediately\u001b[39;00m\n\u001b[0;32m   1859\u001b[0m \u001b[39m# re-used, this id will be used to prevent workers that were\u001b[39;00m\n\u001b[0;32m   1860\u001b[0m \u001b[39m# concurrently finalizing a task from the previous call to run the\u001b[39;00m\n\u001b[0;32m   1861\u001b[0m \u001b[39m# callback.\u001b[39;00m\n\u001b[0;32m   1862\u001b[0m \u001b[39mwith\u001b[39;00m \u001b[39mself\u001b[39m\u001b[39m.\u001b[39m_lock:\n",
      "File \u001b[1;32md:\\Vay\\hidiv\\venv\\Lib\\site-packages\\joblib\\parallel.py:1784\u001b[0m, in \u001b[0;36mParallel._get_sequential_output\u001b[1;34m(self, iterable)\u001b[0m\n\u001b[0;32m   1782\u001b[0m \u001b[39mself\u001b[39m\u001b[39m.\u001b[39mn_dispatched_batches \u001b[39m+\u001b[39m\u001b[39m=\u001b[39m \u001b[39m1\u001b[39m\n\u001b[0;32m   1783\u001b[0m \u001b[39mself\u001b[39m\u001b[39m.\u001b[39mn_dispatched_tasks \u001b[39m+\u001b[39m\u001b[39m=\u001b[39m \u001b[39m1\u001b[39m\n\u001b[1;32m-> 1784\u001b[0m res \u001b[39m=\u001b[39m func(\u001b[39m*\u001b[39;49margs, \u001b[39m*\u001b[39;49m\u001b[39m*\u001b[39;49mkwargs)\n\u001b[0;32m   1785\u001b[0m \u001b[39mself\u001b[39m\u001b[39m.\u001b[39mn_completed_tasks \u001b[39m+\u001b[39m\u001b[39m=\u001b[39m \u001b[39m1\u001b[39m\n\u001b[0;32m   1786\u001b[0m \u001b[39mself\u001b[39m\u001b[39m.\u001b[39mprint_progress()\n",
      "File \u001b[1;32md:\\Vay\\hidiv\\venv\\Lib\\site-packages\\sklearn\\utils\\parallel.py:127\u001b[0m, in \u001b[0;36m_FuncWrapper.__call__\u001b[1;34m(self, *args, **kwargs)\u001b[0m\n\u001b[0;32m    125\u001b[0m     config \u001b[39m=\u001b[39m {}\n\u001b[0;32m    126\u001b[0m \u001b[39mwith\u001b[39;00m config_context(\u001b[39m*\u001b[39m\u001b[39m*\u001b[39mconfig):\n\u001b[1;32m--> 127\u001b[0m     \u001b[39mreturn\u001b[39;00m \u001b[39mself\u001b[39;49m\u001b[39m.\u001b[39;49mfunction(\u001b[39m*\u001b[39;49margs, \u001b[39m*\u001b[39;49m\u001b[39m*\u001b[39;49mkwargs)\n",
      "File \u001b[1;32md:\\Vay\\hidiv\\venv\\Lib\\site-packages\\sklearn\\model_selection\\_validation.py:732\u001b[0m, in \u001b[0;36m_fit_and_score\u001b[1;34m(estimator, X, y, scorer, train, test, verbose, parameters, fit_params, return_train_score, return_parameters, return_n_test_samples, return_times, return_estimator, split_progress, candidate_progress, error_score)\u001b[0m\n\u001b[0;32m    730\u001b[0m         estimator\u001b[39m.\u001b[39mfit(X_train, \u001b[39m*\u001b[39m\u001b[39m*\u001b[39mfit_params)\n\u001b[0;32m    731\u001b[0m     \u001b[39melse\u001b[39;00m:\n\u001b[1;32m--> 732\u001b[0m         estimator\u001b[39m.\u001b[39;49mfit(X_train, y_train, \u001b[39m*\u001b[39;49m\u001b[39m*\u001b[39;49mfit_params)\n\u001b[0;32m    734\u001b[0m \u001b[39mexcept\u001b[39;00m \u001b[39mException\u001b[39;00m:\n\u001b[0;32m    735\u001b[0m     \u001b[39m# Note fit time as time until error\u001b[39;00m\n\u001b[0;32m    736\u001b[0m     fit_time \u001b[39m=\u001b[39m time\u001b[39m.\u001b[39mtime() \u001b[39m-\u001b[39m start_time\n",
      "File \u001b[1;32md:\\Vay\\hidiv\\venv\\Lib\\site-packages\\xgboost\\core.py:620\u001b[0m, in \u001b[0;36mrequire_keyword_args.<locals>.throw_if.<locals>.inner_f\u001b[1;34m(*args, **kwargs)\u001b[0m\n\u001b[0;32m    618\u001b[0m \u001b[39mfor\u001b[39;00m k, arg \u001b[39min\u001b[39;00m \u001b[39mzip\u001b[39m(sig\u001b[39m.\u001b[39mparameters, args):\n\u001b[0;32m    619\u001b[0m     kwargs[k] \u001b[39m=\u001b[39m arg\n\u001b[1;32m--> 620\u001b[0m \u001b[39mreturn\u001b[39;00m func(\u001b[39m*\u001b[39;49m\u001b[39m*\u001b[39;49mkwargs)\n",
      "File \u001b[1;32md:\\Vay\\hidiv\\venv\\Lib\\site-packages\\xgboost\\sklearn.py:1025\u001b[0m, in \u001b[0;36mXGBModel.fit\u001b[1;34m(self, X, y, sample_weight, base_margin, eval_set, eval_metric, early_stopping_rounds, verbose, xgb_model, sample_weight_eval_set, base_margin_eval_set, feature_weights, callbacks)\u001b[0m\n\u001b[0;32m   1014\u001b[0m     obj \u001b[39m=\u001b[39m \u001b[39mNone\u001b[39;00m\n\u001b[0;32m   1016\u001b[0m (\n\u001b[0;32m   1017\u001b[0m     model,\n\u001b[0;32m   1018\u001b[0m     metric,\n\u001b[1;32m   (...)\u001b[0m\n\u001b[0;32m   1023\u001b[0m     xgb_model, eval_metric, params, early_stopping_rounds, callbacks\n\u001b[0;32m   1024\u001b[0m )\n\u001b[1;32m-> 1025\u001b[0m \u001b[39mself\u001b[39m\u001b[39m.\u001b[39m_Booster \u001b[39m=\u001b[39m train(\n\u001b[0;32m   1026\u001b[0m     params,\n\u001b[0;32m   1027\u001b[0m     train_dmatrix,\n\u001b[0;32m   1028\u001b[0m     \u001b[39mself\u001b[39;49m\u001b[39m.\u001b[39;49mget_num_boosting_rounds(),\n\u001b[0;32m   1029\u001b[0m     evals\u001b[39m=\u001b[39;49mevals,\n\u001b[0;32m   1030\u001b[0m     early_stopping_rounds\u001b[39m=\u001b[39;49mearly_stopping_rounds,\n\u001b[0;32m   1031\u001b[0m     evals_result\u001b[39m=\u001b[39;49mevals_result,\n\u001b[0;32m   1032\u001b[0m     obj\u001b[39m=\u001b[39;49mobj,\n\u001b[0;32m   1033\u001b[0m     custom_metric\u001b[39m=\u001b[39;49mmetric,\n\u001b[0;32m   1034\u001b[0m     verbose_eval\u001b[39m=\u001b[39;49mverbose,\n\u001b[0;32m   1035\u001b[0m     xgb_model\u001b[39m=\u001b[39;49mmodel,\n\u001b[0;32m   1036\u001b[0m     callbacks\u001b[39m=\u001b[39;49mcallbacks,\n\u001b[0;32m   1037\u001b[0m )\n\u001b[0;32m   1039\u001b[0m \u001b[39mself\u001b[39m\u001b[39m.\u001b[39m_set_evaluation_result(evals_result)\n\u001b[0;32m   1040\u001b[0m \u001b[39mreturn\u001b[39;00m \u001b[39mself\u001b[39m\n",
      "File \u001b[1;32md:\\Vay\\hidiv\\venv\\Lib\\site-packages\\xgboost\\core.py:620\u001b[0m, in \u001b[0;36mrequire_keyword_args.<locals>.throw_if.<locals>.inner_f\u001b[1;34m(*args, **kwargs)\u001b[0m\n\u001b[0;32m    618\u001b[0m \u001b[39mfor\u001b[39;00m k, arg \u001b[39min\u001b[39;00m \u001b[39mzip\u001b[39m(sig\u001b[39m.\u001b[39mparameters, args):\n\u001b[0;32m    619\u001b[0m     kwargs[k] \u001b[39m=\u001b[39m arg\n\u001b[1;32m--> 620\u001b[0m \u001b[39mreturn\u001b[39;00m func(\u001b[39m*\u001b[39;49m\u001b[39m*\u001b[39;49mkwargs)\n",
      "File \u001b[1;32md:\\Vay\\hidiv\\venv\\Lib\\site-packages\\xgboost\\training.py:185\u001b[0m, in \u001b[0;36mtrain\u001b[1;34m(params, dtrain, num_boost_round, evals, obj, feval, maximize, early_stopping_rounds, evals_result, verbose_eval, xgb_model, callbacks, custom_metric)\u001b[0m\n\u001b[0;32m    183\u001b[0m \u001b[39mif\u001b[39;00m cb_container\u001b[39m.\u001b[39mbefore_iteration(bst, i, dtrain, evals):\n\u001b[0;32m    184\u001b[0m     \u001b[39mbreak\u001b[39;00m\n\u001b[1;32m--> 185\u001b[0m bst\u001b[39m.\u001b[39;49mupdate(dtrain, i, obj)\n\u001b[0;32m    186\u001b[0m \u001b[39mif\u001b[39;00m cb_container\u001b[39m.\u001b[39mafter_iteration(bst, i, dtrain, evals):\n\u001b[0;32m    187\u001b[0m     \u001b[39mbreak\u001b[39;00m\n",
      "File \u001b[1;32md:\\Vay\\hidiv\\venv\\Lib\\site-packages\\xgboost\\core.py:1918\u001b[0m, in \u001b[0;36mBooster.update\u001b[1;34m(self, dtrain, iteration, fobj)\u001b[0m\n\u001b[0;32m   1915\u001b[0m \u001b[39mself\u001b[39m\u001b[39m.\u001b[39m_validate_dmatrix_features(dtrain)\n\u001b[0;32m   1917\u001b[0m \u001b[39mif\u001b[39;00m fobj \u001b[39mis\u001b[39;00m \u001b[39mNone\u001b[39;00m:\n\u001b[1;32m-> 1918\u001b[0m     _check_call(_LIB\u001b[39m.\u001b[39;49mXGBoosterUpdateOneIter(\u001b[39mself\u001b[39;49m\u001b[39m.\u001b[39;49mhandle,\n\u001b[0;32m   1919\u001b[0m                                             ctypes\u001b[39m.\u001b[39;49mc_int(iteration),\n\u001b[0;32m   1920\u001b[0m                                             dtrain\u001b[39m.\u001b[39;49mhandle))\n\u001b[0;32m   1921\u001b[0m \u001b[39melse\u001b[39;00m:\n\u001b[0;32m   1922\u001b[0m     pred \u001b[39m=\u001b[39m \u001b[39mself\u001b[39m\u001b[39m.\u001b[39mpredict(dtrain, output_margin\u001b[39m=\u001b[39m\u001b[39mTrue\u001b[39;00m, training\u001b[39m=\u001b[39m\u001b[39mTrue\u001b[39;00m)\n",
      "\u001b[1;31mKeyboardInterrupt\u001b[0m: "
     ]
    }
   ],
   "source": [
    "# name the folder by current date and time\n",
    "# folder_name = datetime.datetime.now().strftime(\"%Y%m%d_%H%M%S\")\n",
    "\n",
    "model_save_path = f'models/{folder_name}'\n",
    "\n",
    "# create a folder to save model\n",
    "if not os.path.exists(model_save_path):\n",
    "    os.makedirs(model_save_path)\n",
    "\n",
    "total = len(rebalance_date_lst) - start_index  # Total number of iterations\n",
    "\n",
    "\n",
    "for i in range(start_index, len(rebalance_date_lst)):\n",
    "    # expanding window\n",
    "    train_date = rebalance_date_lst[0:i]\n",
    "    rebalance_date = rebalance_date_lst[i]\n",
    "\n",
    "    # data valid date = rebalance_date - 62 days\n",
    "    data_valid_date = rebalance_date - pd.DateOffset(days=62)\n",
    "\n",
    "    # remove date in train_date if date > data_valid_date\n",
    "    valid_train_date = [date for date in train_date if date <= data_valid_date]\n",
    "\n",
    "\n",
    "\n",
    "    # 訓練股票\n",
    "    param_search = dict(\n",
    "        learning_rate=[0.01, 0.05, 0.1],\n",
    "        max_depth=[3, 5, 7],\n",
    "        n_estimators=[5, 10, 50, 100, 200],\n",
    "    )\n",
    "\n",
    "    df_factor_all_train = df_factor_all[df_factor_all['date'].isin(train_date)]\n",
    "    \n",
    "    sample_weight = df_factor_all_train['sample_weight']\n",
    "\n",
    "    fit_params={'sample_weight':sample_weight}\n",
    "    \n",
    "    model_stock = XGBRegressor()\n",
    "    gscv = GridSearchCV(\n",
    "        model_stock, param_search, refit=True, scoring=\"neg_root_mean_squared_error\"\n",
    "    )\n",
    "\n",
    "    gscv.fit(df_factor_all_train[factor_columns], df_factor_all_train[target_cols], **fit_params)\n",
    "    # timestamp to string format for saving model\n",
    "    rebalance_date = rebalance_date.strftime(\"%Y%m%d\")\n",
    "    gscv.best_estimator_.save_model(f\"{model_save_path}/{rebalance_date}.json\")\n",
    "\n",
    "    # Update Progress Bar\n",
    "    print_progress_bar(i-start_index+1, total, prefix = 'Progress:', suffix = f'Complete. Current train data length: {len(df_factor_all_train)}', length = 50)\n"
   ]
  },
  {
   "cell_type": "code",
   "execution_count": 32,
   "metadata": {},
   "outputs": [],
   "source": [
    "# string the rebalance_date_lst for saving json\n",
    "rebalance_date_lst_str = [date.strftime(\"%Y%m%d\") for date in rebalance_date_lst]"
   ]
  },
  {
   "cell_type": "code",
   "execution_count": 34,
   "metadata": {},
   "outputs": [],
   "source": [
    "# save the setting as a json file\n",
    "with open(f'data/model/{folder_name}/setting.json', 'w') as f:\n",
    "    json.dump({\n",
    "        'start_index': start_index,\n",
    "        'rebalance_date_lst': rebalance_date_lst_str,\n",
    "        'factor_columns': factor_columns,\n",
    "        'target_cols': target_cols,\n",
    "        'model_save_path': model_save_path,\n",
    "        # also the param_search\n",
    "        'param_search': param_search,\n",
    "        'fit_params': '<0.2, >0.8 sample_weight = 3, else 1'\n",
    "    }, f)"
   ]
  },
  {
   "cell_type": "code",
   "execution_count": 35,
   "metadata": {},
   "outputs": [],
   "source": [
    "# reset_index for df_factor_all\n",
    "df_factor_all = df_factor_all.reset_index(drop=True)\n",
    "\n",
    "# save the df_factor_all as a feather file\n",
    "df_factor_all.to_feather(f'data/model/{folder_name}/df_factor_all.feather')"
   ]
  },
  {
   "cell_type": "code",
   "execution_count": null,
   "metadata": {},
   "outputs": [],
   "source": []
  },
  {
   "cell_type": "code",
   "execution_count": null,
   "metadata": {},
   "outputs": [],
   "source": []
  },
  {
   "cell_type": "code",
   "execution_count": null,
   "metadata": {},
   "outputs": [],
   "source": []
  }
 ],
 "metadata": {
  "kernelspec": {
   "display_name": "venv",
   "language": "python",
   "name": "python3"
  },
  "language_info": {
   "codemirror_mode": {
    "name": "ipython",
    "version": 3
   },
   "file_extension": ".py",
   "mimetype": "text/x-python",
   "name": "python",
   "nbconvert_exporter": "python",
   "pygments_lexer": "ipython3",
   "version": "3.11.4"
  },
  "orig_nbformat": 4
 },
 "nbformat": 4,
 "nbformat_minor": 2
}
