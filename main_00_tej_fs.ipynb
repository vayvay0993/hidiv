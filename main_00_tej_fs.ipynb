{
 "cells": [
  {
   "cell_type": "code",
   "execution_count": 1,
   "metadata": {},
   "outputs": [],
   "source": [
    "import pandas as pd\n",
    "import numpy as np\n",
    "from copy import deepcopy\n",
    "import sys\n",
    "\n",
    "from importlib import reload\n",
    "\n",
    "\n",
    "import src.cathay_db as db\n",
    "import src.utils as ut\n",
    "import src.financial_statement as fs\n",
    "\n",
    "reload(ut)\n",
    "reload(fs)\n",
    "import matplotlib.pyplot as plt\n",
    "import datetime\n",
    "import os\n",
    "\n",
    "# set max display rows\n",
    "pd.set_option(\"display.max_rows\", 200)\n",
    "\n",
    "# set max display columns\n",
    "pd.set_option(\"display.max_columns\", 100)\n",
    "\n",
    "# Set the float format to display without scientific notation\n",
    "pd.options.display.float_format = '{:.4f}'.format"
   ]
  },
  {
   "cell_type": "markdown",
   "metadata": {},
   "source": [
    "# 01 Read data from xlsx file"
   ]
  },
  {
   "cell_type": "code",
   "execution_count": null,
   "metadata": {},
   "outputs": [],
   "source": [
    "df_delisted = ut.concatenate_excel_sheets('./data/tej_財報_2000_2023_下市.xlsx')\n",
    "df_listed_IFRS = ut.concatenate_excel_sheets('./data/tej_IFRS_2005_2023_上市.xlsx')\n",
    "df_listed_Finance_DB = ut.concatenate_excel_sheets('./data/tej_FinanceDB_2000_2019_上市.xlsx')\n",
    "df_delisted_lsd = ut.concatenate_excel_sheets('./data/tej_長短期借款_2000_2023_下市.xlsx')\n",
    "# dataframe with cum means cumulative data\n",
    "df_listed_IFRS_cum = ut.concatenate_excel_sheets('./data/tej_IFRS_cum_2005_2023_上市.xlsx')\n",
    "\n",
    "df_delisted_lsd = ut.tej_data_clean_up(df_delisted_lsd)\n",
    "df_delisted_lsd.drop_duplicates(inplace=True)\n",
    "\n",
    "df_delisted = ut.tej_data_clean_up(df_delisted)\n",
    "df_listed_IFRS = ut.tej_data_clean_up(df_listed_IFRS)\n",
    "df_listed_Finance_DB = ut.tej_data_clean_up(df_listed_Finance_DB)\n",
    "df_listed_IFRS_cum = ut.tej_data_clean_up(df_listed_IFRS_cum)\n",
    "\n",
    "# drop duplicates\n",
    "df_delisted.drop_duplicates(inplace=True)\n",
    "df_listed_IFRS.drop_duplicates(inplace=True)\n",
    "df_listed_Finance_DB.drop_duplicates(inplace=True)\n",
    "df_listed_IFRS_cum.drop_duplicates(inplace=True)\n",
    "\n",
    "# remove the \"Q\" and \"M\" and any leading and trailing spaces in column names\n",
    "df_delisted.columns = [col[1:].strip() if col[0] == 'Q' else col.strip() for col in df_delisted.columns]\n",
    "df_listed_IFRS.columns = [col.strip() for col in df_listed_IFRS.columns]\n",
    "df_listed_Finance_DB.columns = [col[1:].strip() if col[0] == 'M' else col.strip() for col in df_listed_Finance_DB.columns]\n",
    "\n",
    "# to feather\n",
    "df_delisted.reset_index(drop=True).to_feather('./data/tej_財報_2000_2023_下市.feather')\n",
    "df_listed_IFRS.reset_index(drop=True).to_feather('./data/tej_IFRS_2005_2023_上市.feather')\n",
    "df_listed_Finance_DB.reset_index(drop=True).to_feather('./data/tej_FinanceDB_2000_2019_上市.feather')\n",
    "df_listed_IFRS_cum.reset_index(drop=True).to_feather('./data/tej_IFRS_cum_2005_2023_上市.feather')"
   ]
  },
  {
   "cell_type": "code",
   "execution_count": 4,
   "metadata": {},
   "outputs": [],
   "source": [
    "df_delisted_lsd = ut.concatenate_excel_sheets('./data/tej_長短期借款_2000_2023_下市.xlsx')\n",
    "df_delisted_lsd = ut.tej_data_clean_up(df_delisted_lsd)\n",
    "df_delisted_lsd.drop_duplicates(inplace=True)"
   ]
  },
  {
   "cell_type": "code",
   "execution_count": 6,
   "metadata": {},
   "outputs": [],
   "source": [
    "df_delisted_lsd.reset_index(drop=True).to_feather('./data/tej_長短期借款_2000_2023_下市.feather')"
   ]
  },
  {
   "cell_type": "code",
   "execution_count": 24,
   "metadata": {},
   "outputs": [],
   "source": [
    "# from feather\n",
    "df_delisted = pd.read_feather('./data/tej_財報_2000_2023_下市.feather')\n",
    "df_listed_IFRS = pd.read_feather('./data/tej_IFRS_2005_2023_上市.feather')\n",
    "df_listed_Finance_DB = pd.read_feather('./data/tej_FinanceDB_2000_2019_上市.feather')\n",
    "df_listed_IFRS_cum = pd.read_feather('./data/tej_IFRS_cum_2005_2023_上市.feather')\n",
    "df_delisted_lsd = pd.read_feather('./data/tej_長短期借款_2000_2023_下市.feather')"
   ]
  },
  {
   "cell_type": "markdown",
   "metadata": {},
   "source": [
    "# 02 Merge data from different sources"
   ]
  },
  {
   "cell_type": "code",
   "execution_count": 25,
   "metadata": {},
   "outputs": [],
   "source": [
    "df_delisted = df_delisted.merge(df_delisted_lsd[['股票代號','年月','長短期借款']], on=['股票代號', '年月'], how='left')\n",
    "# create '長短期借款', '財報發布日' for the listed companies\n",
    "df_listed_Finance_DB['長短期借款'] = np.nan\n",
    "df_listed_Finance_DB['財報發布日'] = np.nan\n",
    "# create '財報發布日' for the delisted companies\n",
    "df_delisted['財報發布日'] = np.nan\n",
    "\n",
    "# create 'sequence' column for the different dataframes, the smaller the number, the more priority\n",
    "df_listed_Finance_DB['sequence'] = 2\n",
    "df_listed_IFRS_cum['sequence'] = 1\n",
    "df_delisted['sequence'] = 3\n",
    "\n",
    "# create a new dataframe with the columns of these 3 dataframes\n",
    "df_delisted_columns = pd.DataFrame(df_delisted.columns, columns=['delisted'])\n",
    "df_listed_IFRS_cum_columns = pd.DataFrame(df_listed_IFRS_cum.columns, columns=['IFRS'])\n",
    "df_listed_Finance_DB_columns = pd.DataFrame(df_listed_Finance_DB.columns, columns=['Finance_DB'])\n",
    "\n",
    "# merge all df by the column names\n",
    "df_all_columns = pd.merge(df_delisted_columns, df_listed_IFRS_cum_columns, how='outer', left_on='delisted', right_on='IFRS')\n",
    "df_all_columns = pd.merge(df_all_columns, df_listed_Finance_DB_columns, how='outer', left_on='delisted', right_on='Finance_DB')\n",
    "\n",
    "df_all_columns = df_all_columns.dropna(how = 'any')\n",
    "\n",
    "# pick only the columns from the delisted dataframe\n",
    "common_column = df_all_columns['delisted'].tolist()\n",
    "\n",
    "df_fs_all = pd.DataFrame([])\n",
    "# concat the all df\n",
    "df_fs_all = pd.concat([df_fs_all, df_listed_IFRS_cum[common_column]],axis=0)\n",
    "df_fs_all = pd.concat([df_fs_all, df_listed_Finance_DB[common_column]],axis=0)\n",
    "df_fs_all = pd.concat([df_fs_all, df_delisted[common_column]],axis=0)\n",
    "\n",
    "# get the min sequence of each stock at each year\n",
    "df_seq = df_fs_all.groupby(['股票代號','年月'])['sequence'].min().reset_index().copy()\n",
    "df_fs_merge = pd.merge(df_seq, df_fs_all, how='left', on=['股票代號','年月','sequence'])\n",
    "\n",
    "df_fs_merge.sort_values(['股票代號','年月'], inplace=True)\n",
    "# filter out the data that '股票代號' length is not 4\n",
    "df_fs_merge = df_fs_merge[df_fs_merge['股票代號'].str.len() == 4]\n",
    "df_fs_merge.reset_index(drop=True, inplace=True)\n",
    "df_fs_merge.to_feather('./data/df_tej_fs_merge.feather')"
   ]
  },
  {
   "cell_type": "code",
   "execution_count": 26,
   "metadata": {},
   "outputs": [],
   "source": [
    "df_fs_merge = pd.read_feather('./data/df_tej_fs_merge.feather')"
   ]
  },
  {
   "cell_type": "markdown",
   "metadata": {},
   "source": [
    "# 03 Merge the OCF and NI data to dataframe"
   ]
  },
  {
   "cell_type": "code",
   "execution_count": 27,
   "metadata": {},
   "outputs": [],
   "source": [
    "df_slice_cum = ut.concatenate_excel_sheets('./data/tej_IFRS_slice_cum_2000_2023_All.xlsx')\n",
    "\n",
    "# because these columns are cumulative, so we need to delete them\n",
    "del df_slice_cum['來自營運之現金流量']\n",
    "del df_slice_cum['繼續營業單位損益']\n",
    "\n",
    "# merge the single season '來自營運之現金流量' from df_fs_merge\n",
    "df_slice_cum = pd.merge(df_slice_cum, df_fs_merge[['公司','年月','來自營運之現金流量']], how='left', on=['公司','年月'])\n",
    "df_slice_cum = ut.tej_data_clean_up(df_slice_cum)\n",
    "\n",
    "# then handle the cumulative '繼續營業單位損益', named as 'ni'\n",
    "df_slice_ni_cum = ut.concatenate_excel_sheets('./data/tej_IFRS_ni_slice_cum_2000_2023_All.xlsx')\n",
    "df_slice_ni_cum = ut.tej_data_clean_up(df_slice_ni_cum)\n",
    "df_slice_ni_cum.sort_values(['公司','年月'], inplace=True)\n",
    "df_slice_ni_cum['last_date'] = df_slice_ni_cum.groupby('股票名稱')['年月'].shift(1)\n",
    "\n",
    "# cumulative is yearly reset, so replace the last_date to np.nan if the last_date is not the same year with 年月, ex: 2019-12-31, 2020-03-31\n",
    "df_slice_ni_cum.loc[df_slice_ni_cum['last_date'].astype('str').str[:4] != df_slice_ni_cum['年月'].astype('str').str[:4], 'last_date'] = np.nan\n",
    "df_slice_ni_cum = df_slice_ni_cum.merge(df_slice_ni_cum[['公司','年月','歸屬母公司淨利（損）']], how='left', left_on=['公司','last_date'], right_on=['公司','年月'], suffixes=('', '_y'))\n",
    "df_slice_ni_cum['ni'] = df_slice_ni_cum['歸屬母公司淨利（損）']  - df_slice_ni_cum['歸屬母公司淨利（損）_y']\n",
    "df_slice_ni_cum['ni'] = np.where(df_slice_ni_cum['ni'].isna(), df_slice_ni_cum['歸屬母公司淨利（損）'], df_slice_ni_cum['ni'])\n",
    "\n",
    "df_slice_cum = pd.merge(df_slice_cum, df_slice_ni_cum[['公司','年月','ni']], how='left', on=['公司','年月'])\n",
    "df_slice_cum.sort_values(['公司','年月'], inplace=True)\n",
    "df_slice_cum.reset_index(drop=True, inplace=True)\n",
    "df_slice_cum.to_feather('./data/df_tej_fs_slice_cum.feather')"
   ]
  },
  {
   "cell_type": "markdown",
   "metadata": {},
   "source": [
    "# 04 Merge the OPM to dataframe"
   ]
  },
  {
   "cell_type": "code",
   "execution_count": 28,
   "metadata": {},
   "outputs": [],
   "source": [
    "df_slice_cum = pd.read_feather('./data/df_tej_fs_slice_cum.feather')\n",
    "\n",
    "df_tej_ifrs_opm = ut.concatenate_excel_sheets('./data/tej_ifrs_opm_2000_2023_All.xlsx')\n",
    "df_tej_new_finance_opm = ut.concatenate_excel_sheets('./data/tej_new_finance_opm_2000_2023_All.xlsx')\n",
    "df_tej_finance_opm = ut.concatenate_excel_sheets('./data/tej_finance_opm_2000_2023_All.xlsx')\n",
    "\n",
    "# drop the duplicate rows\n",
    "df_tej_ifrs_opm.drop_duplicates(inplace=True)\n",
    "df_tej_new_finance_opm.drop_duplicates(inplace=True)\n",
    "df_tej_finance_opm.drop_duplicates(inplace=True)\n",
    "\n",
    "df_tej_ifrs_opm = df_tej_ifrs_opm[['公司', '年月', '季別', '營業收入淨額', '營業利益']]\n",
    "df_tej_new_finance_opm = df_tej_new_finance_opm[['公司', '年月', '季別', 'Q營業收入淨額', 'Q營業利益']]\n",
    "df_tej_finance_opm = df_tej_finance_opm[['公司', '年月', '季別', 'M營業收入淨額', 'M營業利益']]\n",
    "\n",
    "# rename the columns for concat\n",
    "df_tej_ifrs_opm.columns = ['公司', '年月', '季別', '營業收入淨額', '營業利益']\n",
    "df_tej_new_finance_opm.columns = ['公司', '年月', '季別', '營業收入淨額', '營業利益']\n",
    "df_tej_finance_opm.columns = ['公司', '年月', '季別', '營業收入淨額', '營業利益']\n",
    "\n",
    "df_tej_ifrs_opm['sequence'] = 2\n",
    "df_tej_new_finance_opm['sequence'] = 1\n",
    "df_tej_finance_opm['sequence'] = 3\n",
    "\n",
    "# concat the 3 dataframes\n",
    "df_tej_opm_all = pd.concat([df_tej_ifrs_opm, df_tej_new_finance_opm, df_tej_finance_opm], axis=0)\n",
    "\n",
    "# get the min sequence of each stock at each year\n",
    "df_seq = df_tej_opm_all.groupby(['公司','年月'])['sequence'].min().reset_index().copy()\n",
    "df_opm_merge = pd.merge(df_seq, df_tej_opm_all, how='left', on=['公司','年月','sequence'])\n",
    "\n",
    "df_opm_merge.sort_values(['公司','年月'], inplace=True)\n",
    "# filter out the data that '公司' length is not 4\n",
    "# df_opm_merge = df_opm_merge[df_opm_merge['公司'].str.len() == 4]\n",
    "df_opm_merge.reset_index(drop=True, inplace=True)"
   ]
  },
  {
   "cell_type": "code",
   "execution_count": 34,
   "metadata": {},
   "outputs": [],
   "source": [
    "df_slice_cum = df_slice_cum.merge(df_opm_merge[['公司','年月','營業收入淨額','營業利益']], how='left', on=['公司','年月'])"
   ]
  },
  {
   "cell_type": "code",
   "execution_count": 35,
   "metadata": {},
   "outputs": [],
   "source": [
    "df_slice_cum.to_feather('./data/df_tej_fs_20230712.feather')"
   ]
  },
  {
   "cell_type": "code",
   "execution_count": null,
   "metadata": {},
   "outputs": [],
   "source": [
    "# # merge two dataframes by '公司', '年月'\n",
    "# df_tej_ifrs_opm.columns = ['公司', '年月', '季別', '營業收入淨額', '營業利益','sequence']\n",
    "# df_tej_new_finance_opm.columns = ['公司', '年月', '季別', 'Q營業收入淨額', 'Q營業利益','sequence']\n",
    "# df_tej_finance_opm.columns = ['公司', '年月', '季別', 'M營業收入淨額', 'M營業利益','sequence']\n",
    "\n",
    "# df_tej_opm = pd.merge(df_tej_ifrs_opm[['公司', '年月','營業收入淨額','營業利益']], df_tej_new_finance_opm[['公司', '年月','Q營業收入淨額','Q營業利益']], how='outer', on=['公司','年月'], suffixes=('_ifrs', '_new_finance'))\n",
    "# df_tej_opm = pd.merge(df_tej_opm, df_tej_finance_opm[['公司', '年月','M營業收入淨額','M營業利益']], how='outer', on=['公司','年月'], suffixes=('_new_finance', '_finance'))\n",
    "# df_tej_opm[df_tej_opm['公司'] == '2330 台積電'].sort_values('年月')"
   ]
  },
  {
   "cell_type": "code",
   "execution_count": null,
   "metadata": {},
   "outputs": [],
   "source": [
    "df_opm_merge['OPM'] = df_opm_merge['營業利益'] / df_opm_merge['營業收入淨額']"
   ]
  },
  {
   "cell_type": "code",
   "execution_count": null,
   "metadata": {},
   "outputs": [],
   "source": [
    "df_slice_ni_cum = ut.concatenate_excel_sheets('./data/tej_IFRS_ni_slice_cum_2000_2023_All.xlsx')"
   ]
  },
  {
   "cell_type": "code",
   "execution_count": null,
   "metadata": {},
   "outputs": [],
   "source": [
    "df_slice_cum"
   ]
  }
 ],
 "metadata": {
  "kernelspec": {
   "display_name": "venv",
   "language": "python",
   "name": "python3"
  },
  "language_info": {
   "codemirror_mode": {
    "name": "ipython",
    "version": 3
   },
   "file_extension": ".py",
   "mimetype": "text/x-python",
   "name": "python",
   "nbconvert_exporter": "python",
   "pygments_lexer": "ipython3",
   "version": "3.11.4"
  },
  "orig_nbformat": 4
 },
 "nbformat": 4,
 "nbformat_minor": 2
}
