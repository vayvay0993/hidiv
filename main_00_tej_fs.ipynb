{
 "cells": [
  {
   "cell_type": "code",
   "execution_count": 1,
   "metadata": {},
   "outputs": [],
   "source": [
    "import pandas as pd\n",
    "import numpy as np\n",
    "from copy import deepcopy\n",
    "import sys\n",
    "\n",
    "from importlib import reload\n",
    "\n",
    "\n",
    "sys.path.append(\"D:/DST/\")\n",
    "import cathay_db as db\n",
    "import utils as ut\n",
    "import financial_statement as fs\n",
    "\n",
    "reload(ut)\n",
    "reload(fs)\n",
    "import matplotlib.pyplot as plt\n",
    "import datetime\n",
    "import os\n",
    "\n",
    "# set max display rows\n",
    "pd.set_option(\"display.max_rows\", 200)\n",
    "\n",
    "# set max display columns\n",
    "pd.set_option(\"display.max_columns\", 100)\n",
    "\n",
    "# Set the float format to display without scientific notation\n",
    "pd.options.display.float_format = '{:.4f}'.format"
   ]
  },
  {
   "cell_type": "code",
   "execution_count": null,
   "metadata": {},
   "outputs": [],
   "source": []
  },
  {
   "cell_type": "code",
   "execution_count": 2,
   "metadata": {},
   "outputs": [],
   "source": [
    "df_delisted = ut.concatenate_excel_sheets('./data/tej_財報_2000_2023_下市.xlsx')"
   ]
  },
  {
   "cell_type": "code",
   "execution_count": 3,
   "metadata": {},
   "outputs": [],
   "source": [
    "df_listed_IFRS = ut.concatenate_excel_sheets('./data/tej_IFRS_2005_2023_上市.xlsx')"
   ]
  },
  {
   "cell_type": "code",
   "execution_count": 4,
   "metadata": {},
   "outputs": [],
   "source": [
    "df_listed_Finance_DB = ut.concatenate_excel_sheets('./data/tej_FinanceDB_2000_2019_上市.xlsx')"
   ]
  },
  {
   "cell_type": "code",
   "execution_count": 62,
   "metadata": {},
   "outputs": [],
   "source": [
    "df_listed_IFRS_cum = ut.concatenate_excel_sheets('./data/tej_IFRS_cum_2005_2023_上市.xlsx')"
   ]
  },
  {
   "cell_type": "code",
   "execution_count": 70,
   "metadata": {},
   "outputs": [],
   "source": [
    "df_delisted_lsd = ut.concatenate_excel_sheets('./data/tej_長短期借款_2000_2023_下市.xlsx')\n",
    "df_delisted_lsd = ut.tej_data_clean_up(df_delisted_lsd)\n",
    "df_delisted_lsd.drop_duplicates(inplace=True)"
   ]
  },
  {
   "cell_type": "code",
   "execution_count": 64,
   "metadata": {},
   "outputs": [
    {
     "name": "stdout",
     "output_type": "stream",
     "text": [
      "column is already exist\n",
      "column is already exist\n",
      "column is already exist\n"
     ]
    }
   ],
   "source": [
    "df_delisted = ut.tej_data_clean_up(df_delisted)\n",
    "df_listed_IFRS = ut.tej_data_clean_up(df_listed_IFRS)\n",
    "df_listed_Finance_DB = ut.tej_data_clean_up(df_listed_Finance_DB)\n",
    "df_listed_IFRS_cum = ut.tej_data_clean_up(df_listed_IFRS_cum)"
   ]
  },
  {
   "cell_type": "code",
   "execution_count": 65,
   "metadata": {},
   "outputs": [],
   "source": [
    "df_delisted.drop_duplicates(inplace=True)\n",
    "df_listed_IFRS.drop_duplicates(inplace=True)\n",
    "df_listed_Finance_DB.drop_duplicates(inplace=True)\n",
    "df_listed_IFRS_cum.drop_duplicates(inplace=True)\n",
    "\n",
    "df_delisted.columns = [col[1:].strip() if col[0] == 'Q' else col.strip() for col in df_delisted.columns]\n",
    "df_listed_IFRS.columns = [col.strip() for col in df_listed_IFRS.columns]\n",
    "df_listed_Finance_DB.columns = [col[1:].strip() if col[0] == 'M' else col.strip() for col in df_listed_Finance_DB.columns]"
   ]
  },
  {
   "cell_type": "code",
   "execution_count": 66,
   "metadata": {},
   "outputs": [],
   "source": [
    "# to feather\n",
    "df_delisted.reset_index(drop=True).to_feather('./data/tej_財報_2000_2023_下市.feather')\n",
    "df_listed_IFRS.reset_index(drop=True).to_feather('./data/tej_IFRS_2005_2023_上市.feather')\n",
    "df_listed_Finance_DB.reset_index(drop=True).to_feather('./data/tej_FinanceDB_2000_2019_上市.feather')\n",
    "df_listed_IFRS_cum.reset_index(drop=True).to_feather('./data/tej_IFRS_cum_2005_2023_上市.feather')"
   ]
  },
  {
   "cell_type": "code",
   "execution_count": 105,
   "metadata": {},
   "outputs": [],
   "source": [
    "# from feather\n",
    "df_delisted = pd.read_feather('./data/tej_財報_2000_2023_下市.feather')\n",
    "df_listed_IFRS = pd.read_feather('./data/tej_IFRS_2005_2023_上市.feather')\n",
    "df_listed_Finance_DB = pd.read_feather('./data/tej_FinanceDB_2000_2019_上市.feather')\n",
    "df_listed_IFRS_cum = pd.read_feather('./data/tej_IFRS_cum_2005_2023_上市.feather')\n",
    "\n"
   ]
  },
  {
   "cell_type": "code",
   "execution_count": 106,
   "metadata": {},
   "outputs": [],
   "source": [
    "df_delisted = df_delisted.merge(df_delisted_lsd[['股票代號','年月','長短期借款']], on=['股票代號', '年月'], how='left')\n",
    "df_listed_Finance_DB['長短期借款'] = np.nan"
   ]
  },
  {
   "cell_type": "code",
   "execution_count": 109,
   "metadata": {},
   "outputs": [],
   "source": [
    "df_delisted_columns = pd.DataFrame(df_delisted.columns, columns=['delisted'])\n",
    "df_listed_IFRS_columns = pd.DataFrame(df_listed_IFRS.columns, columns=['IFRS'])\n",
    "df_listed_Finance_DB_columns = pd.DataFrame(df_listed_Finance_DB.columns, columns=['Finance_DB'])\n",
    "\n",
    "# merge all df to check the columns\n",
    "df_all_columns = pd.merge(df_delisted_columns, df_listed_IFRS_columns, how='outer', left_on='delisted', right_on='IFRS')\n",
    "df_all_columns = pd.merge(df_all_columns, df_listed_Finance_DB_columns, how='outer', left_on='delisted', right_on='Finance_DB')"
   ]
  },
  {
   "cell_type": "code",
   "execution_count": 111,
   "metadata": {},
   "outputs": [],
   "source": [
    "# drop the columns that only Finance_DB has na\n",
    "df_all_columns = df_all_columns.dropna(how = 'any')"
   ]
  },
  {
   "cell_type": "code",
   "execution_count": 134,
   "metadata": {},
   "outputs": [],
   "source": [
    "df_listed_Finance_DB['sequence'] = 1\n",
    "df_listed_IFRS['sequence'] = 2\n",
    "df_delisted['sequence'] = 3"
   ]
  },
  {
   "cell_type": "code",
   "execution_count": null,
   "metadata": {},
   "outputs": [],
   "source": [
    "common_column = df_all_columns['delisted'].tolist()"
   ]
  },
  {
   "cell_type": "code",
   "execution_count": 143,
   "metadata": {},
   "outputs": [],
   "source": [
    "df_fs_all = pd.DataFrame([])\n",
    "# concat the all df\n",
    "df_fs_all = pd.concat([df_fs_all, df_listed_IFRS[common_column + ['sequence']]],axis=0)\n",
    "df_fs_all = pd.concat([df_fs_all, df_listed_Finance_DB[common_column + ['sequence']]],axis=0)\n",
    "df_fs_all = pd.concat([df_fs_all, df_delisted[common_column + ['sequence']]],axis=0)"
   ]
  },
  {
   "cell_type": "code",
   "execution_count": 148,
   "metadata": {},
   "outputs": [],
   "source": [
    "df_seq = df_fs_all.groupby(['股票代號','年月'])['sequence'].min().reset_index().copy()"
   ]
  },
  {
   "cell_type": "code",
   "execution_count": 149,
   "metadata": {},
   "outputs": [],
   "source": [
    "df_fs_merge = pd.merge(df_seq, df_fs_all, how='left', on=['股票代號','年月','sequence'])"
   ]
  },
  {
   "cell_type": "code",
   "execution_count": 153,
   "metadata": {},
   "outputs": [],
   "source": [
    "df_fs_merge.sort_values(['股票代號','年月'], inplace=True)"
   ]
  },
  {
   "cell_type": "code",
   "execution_count": 156,
   "metadata": {},
   "outputs": [],
   "source": [
    "# filter out the data that '股票代號' length is not 4\n",
    "df_fs_merge = df_fs_merge[df_fs_merge['股票代號'].str.len() == 4]"
   ]
  },
  {
   "cell_type": "code",
   "execution_count": 159,
   "metadata": {},
   "outputs": [],
   "source": [
    "df_fs_merge.reset_index(drop=True, inplace=True)"
   ]
  },
  {
   "cell_type": "code",
   "execution_count": 160,
   "metadata": {},
   "outputs": [],
   "source": [
    "df_fs_merge.to_feather('./data/df_tej_fs_merge.feather')"
   ]
  }
 ],
 "metadata": {
  "kernelspec": {
   "display_name": "venv",
   "language": "python",
   "name": "python3"
  },
  "language_info": {
   "codemirror_mode": {
    "name": "ipython",
    "version": 3
   },
   "file_extension": ".py",
   "mimetype": "text/x-python",
   "name": "python",
   "nbconvert_exporter": "python",
   "pygments_lexer": "ipython3",
   "version": "3.11.4"
  },
  "orig_nbformat": 4
 },
 "nbformat": 4,
 "nbformat_minor": 2
}
