{
 "cells": [
  {
   "cell_type": "code",
   "execution_count": 1,
   "metadata": {},
   "outputs": [],
   "source": [
    "import pandas as pd\n",
    "import numpy as np\n",
    "from copy import deepcopy\n",
    "import sys\n",
    "sys.path.append(\"D:/DST/\")\n",
    "import cathay_db as db\n",
    "\n",
    "# set max display rows\n",
    "pd.set_option(\"display.max_rows\", 200)\n",
    "\n",
    "# set max display columns\n",
    "pd.set_option(\"display.max_columns\", 100)\n",
    "\n",
    "# Set the float format to display without scientific notation\n",
    "pd.options.display.float_format = '{:.4f}'.format\n",
    "\n",
    "import matplotlib.pyplot as plt\n",
    "import datetime\n",
    "\n",
    "import os"
   ]
  },
  {
   "attachments": {},
   "cell_type": "markdown",
   "metadata": {},
   "source": [
    "# 1. Data to feather file"
   ]
  },
  {
   "cell_type": "code",
   "execution_count": 2,
   "metadata": {},
   "outputs": [],
   "source": [
    "# df_cash_dividends_list = pd.read_excel('./data/tej_現金股利_2000_2023.xlsx')\n",
    "# df_cash_dividends_delist = pd.read_excel('./data/tej_現金股利_2000_2023_下市.xlsx')\n",
    "# df_cash_dividends = pd.concat([df_cash_dividends_list, df_cash_dividends_delist], axis=0)\n",
    "# df_cash_dividends = df_cash_dividends.reset_index(drop=True)\n",
    "# df_cash_dividends.to_feather('./data/tej_cash_dividends.feather')\n",
    "\n",
    "# df_capital_formation_list = pd.read_excel('./data/tej_資本形成表_2000_2023.xlsx')\n",
    "# df_capital_formation_delist = pd.read_excel('./data/tej_資本形成表_2000_2023_下市.xlsx')\n",
    "# df_capital_formation = pd.concat([df_capital_formation_list, df_capital_formation_delist], axis=0)\n",
    "# df_capital_formation = df_capital_formation.reset_index(drop=True)\n",
    "# df_capital_formation.to_feather('./data/tej_capital_formation.feather')\n",
    "\n",
    "# df_shareholder_meeting_list = pd.read_excel('./data/tej_股東會_2000_2023.xlsx')\n",
    "# df_shareholder_meeting_delist = pd.read_excel('./data/tej_股東會_2000_2023_下市.xlsx')\n",
    "# df_shareholder_meeting = pd.concat([df_shareholder_meeting_list, df_shareholder_meeting_delist], axis=0)\n",
    "# df_shareholder_meeting = df_shareholder_meeting.reset_index(drop=True)\n",
    "\n",
    "# df_shareholder_meeting['董事會日期'] = df_shareholder_meeting['董事會日期'].astype(str)\n",
    "# df_shareholder_meeting['董事會日期'] = df_shareholder_meeting['董事會日期'].apply(lambda x: x[:10])\n",
    "# df_shareholder_meeting['董事會日期'].replace('NaT', np.nan, inplace=True)\n",
    "\n",
    "# df_shareholder_meeting.to_feather('./data/tej_shareholder_meeting.feather')\n",
    "\n",
    "# db_settings = {\n",
    "#     \"sql_query\": \"SELECT  [證券代碼], [年月日], [收盤價(元)], [成交量(千股)], [市值(百萬元)], [注意股票(A)], [處置股票(D)], [全額交割(Y)], [市場別] FROM [tej_09_02];\",\n",
    "#     \"server\": \"10.198.213.13\",\n",
    "#     \"database\": \"FinanceOther\",\n",
    "#     \"server_uid\": \"ap00100809\",\n",
    "#     \"server_pwd\": \"Cathay06\",\n",
    "# }\n",
    "# df_adjusted_price_list = db.pd_read_mssql_data(**db_settings)\n",
    "\n",
    "# db_settings = {\n",
    "#     \"sql_query\": \"SELECT  [證券代碼], [年月日], [收盤價(元)], [成交量(千股)], [市值(百萬元)], [注意股票(A)], [處置股票(D)], [全額交割(Y)], [市場別] FROM [tej_19_03_01];\",\n",
    "#     \"server\": \"10.198.213.13\",\n",
    "#     \"database\": \"FinanceOther\",\n",
    "#     \"server_uid\": \"ap00100809\",\n",
    "#     \"server_pwd\": \"Cathay06\",\n",
    "# }\n",
    "# df_adjusted_price_delist = db.pd_read_mssql_data(**db_settings)\n",
    "\n",
    "# df_adjusted_price = pd.concat([df_adjusted_price_list, df_adjusted_price_delist], axis=0)\n",
    "# df_adjusted_price = df_adjusted_price.reset_index(drop=True)\n",
    "# df_adjusted_price.to_feather('./data/tej_adjusted_price.feather')\n",
    "\n",
    "# db_settings = {\n",
    "#     \"sql_query\": \"SELECT TOP (1000) [date],[table_index],[table_name],[schedule] FROM [FinanceOther].[dbo].[cmoney_info_update_schedule]\",\n",
    "#     \"server\": \"10.198.213.13\",\n",
    "#     \"database\": \"FinanceOther\",\n",
    "#     \"server_uid\": \"ap00100809\",\n",
    "#     \"server_pwd\": \"Cathay06\",\n",
    "# }\n",
    "\n",
    "# df_table_index = db.pd_read_mssql_data(**db_settings)\n",
    "\n",
    "# # replace ( in table_name to _ and remove )\n",
    "# df_table_index['table_name'] = df_table_index['table_name'].str.replace('(','_')\n",
    "# df_table_index['table_name'] = df_table_index['table_name'].str.replace(')','')\n",
    "# # create a dict to store the table name and the corresponding table index\n",
    "# table_index_dict = {}\n",
    "# for index, row in df_table_index.iterrows():\n",
    "#     table_index_dict[row['table_name']] = row['table_index']\n",
    "    \n",
    "# # create a path to data folder\n",
    "# data_folder_path = os.path.join(os.getcwd(), 'data')\n",
    "\n",
    "# current_folder_list = os.listdir(data_folder_path)\n",
    "# # get the folder name of data\n",
    "# data_folder = [folder for folder in current_folder_list if \".\" not in folder]\n",
    "\n",
    "\n",
    "# def create_variable(name, data_folder_path=data_folder_path):\n",
    "\n",
    "#     index = data_folder.index(name)\n",
    "\n",
    "#     feather_data_folder = os.path.join(data_folder_path, data_folder[index])\n",
    "\n",
    "#     # get the list of feather files in the folder\n",
    "#     feather_file_list = os.listdir(feather_data_folder)\n",
    "\n",
    "#     table_name = data_folder[index]\n",
    "#     table_index  = table_index_dict[data_folder[index]]\n",
    "\n",
    "#     # print table index and folder name\n",
    "#     print(table_index, table_name)\n",
    "#     # create variable by the folder name, in the format of df_{table_index}\n",
    "\n",
    "#     df = pd.DataFrame()\n",
    "\n",
    "#     for feather_file in feather_file_list:\n",
    "#         if pd.read_feather(os.path.join(feather_data_folder, feather_file)).columns[0] != 'Error_沒有資料！':\n",
    "#                 df = pd.concat([df, pd.read_feather(os.path.join(feather_data_folder, feather_file))], axis=0)\n",
    "\n",
    "#     # Add the variable to the global scope\n",
    "#     globals()[f\"df_{table_index}_{table_name}\"] = df\n",
    "\n",
    "\n",
    "# create_variable('上市櫃公司基本資料')\n",
    "# create_variable('下市櫃公司基本資料')\n",
    "# create_variable('日收盤表排行')\n",
    "# create_variable('季IFRS財報_總表')\n",
    "\n",
    "# df_company_info = pd.concat([df_0013_上市櫃公司基本資料, df_0369_下市櫃公司基本資料], axis=0)\n",
    "# df_company_info.reset_index(drop=True, inplace=True)\n",
    "# df_company_info.to_feather('./data/cmoney_company_info.feather')\n",
    "\n",
    "# df_price = df_0002_日收盤表排行.copy()\n",
    "# df_price.reset_index(drop=True, inplace=True)\n",
    "# df_price.to_feather('./data/cmoney_price.feather')\n",
    "\n",
    "# df_financial_statement = df_0520_季IFRS財報_總表.copy()\n",
    "# df_financial_statement.reset_index(drop=True, inplace=True)\n",
    "# df_financial_statement.to_feather('./data/cmoney_financial_statement.feather')\n"
   ]
  },
  {
   "attachments": {},
   "cell_type": "markdown",
   "metadata": {},
   "source": [
    "# 2. Read data from feather file"
   ]
  },
  {
   "cell_type": "code",
   "execution_count": 3,
   "metadata": {},
   "outputs": [],
   "source": [
    "# following is data from tej\n",
    "\n",
    "df_adjusted_price = pd.read_feather('data/tej_adjusted_price.feather')\n",
    "df_cash_dividends = pd.read_feather('data/tej_cash_dividends.feather')\n",
    "df_shareholder_meeting = pd.read_feather('data/tej_shareholder_meeting.feather')\n",
    "df_capital_formation = pd.read_feather('data/tej_capital_formation.feather')\n",
    "\n",
    "# following is data from cmoney\n",
    "\n",
    "df_price = pd.read_feather('data/cmoney_price.feather')\n",
    "df_company_info = pd.read_feather('data/cmoney_company_info.feather')\n",
    "df_financial_statement = pd.read_feather('data/cmoney_financial_statement.feather')\n",
    "\n",
    "ticker_list = np.sort(pd.unique(df_company_info['股票代號']))"
   ]
  },
  {
   "cell_type": "code",
   "execution_count": 4,
   "metadata": {},
   "outputs": [],
   "source": [
    "def cmoney_data_clean_up(df):\n",
    "    df = deepcopy(df)\n",
    "\n",
    "    df = df.drop_duplicates()\n",
    "\n",
    "    # handle the column name that has \\u3000\n",
    "    df.columns = [x.replace('\\u3000','') for x in  df.columns]\n",
    "\n",
    "    # turn the column of 日期 into datetime format YYYY-MM-DD\n",
    "    if '日期' in df.columns:\n",
    "        try:\n",
    "            df['日期'] = pd.to_datetime(df['日期'], format='%Y%m%d')\n",
    "        except:\n",
    "            print('date format is not YYYYMMDD')\n",
    "            try:\n",
    "                df['日期'] = pd.to_datetime(df['日期'], format='%Y/%m/%d')\n",
    "            except:\n",
    "                print('date format is not YYYY/MM/DD')\n",
    "                try:\n",
    "                    df['日期'] = pd.to_datetime(df['日期'], format='%Y-%m-%d')\n",
    "                except:\n",
    "                    print('date format is not YYYY-MM-DD')\n",
    "    return df"
   ]
  },
  {
   "cell_type": "code",
   "execution_count": 5,
   "metadata": {},
   "outputs": [],
   "source": [
    "def tej_data_clean_up(df):\n",
    "    df = deepcopy(df)\n",
    "\n",
    "    df = df.drop_duplicates()\n",
    "\n",
    "    # if '公司' is in the columns, split it into 股票代號 and 公司名稱\n",
    "    if '公司' in df.columns:\n",
    "        try:\n",
    "            df.insert(0 ,'股票代號', df['公司'].apply(lambda x: x.split(' ')[0]))\n",
    "            df.insert(0 ,'股票名稱', df['公司'].apply(lambda x: x.split(' ')[1]))\n",
    "        except:\n",
    "            print('column is already exist')\n",
    "\n",
    "    if '證券代碼' in df.columns:\n",
    "        try:\n",
    "            df.insert(0 ,'股票代號', df['證券代碼'].apply(lambda x: x.split(' ')[0]))\n",
    "            df.insert(0 ,'股票名稱', df['證券代碼'].apply(lambda x: x.split(' ')[1]))\n",
    "        except:\n",
    "            print('column is already exist')\n",
    "\n",
    "    if '公司簡稱' in df.columns:\n",
    "        try:\n",
    "            df.insert(0 ,'股票代號', df['公司簡稱'].apply(lambda x: x.split(' ')[0]))\n",
    "            df.insert(0 ,'股票名稱', df['公司簡稱'].apply(lambda x: x.split(' ')[1]))\n",
    "        except:\n",
    "            print('column is already exist')\n",
    "\n",
    "    # turn the column of 年月日 into datetime format YYYY-MM-DD\n",
    "    if '年月日' in df.columns:\n",
    "        try:\n",
    "            df['年月日'] = pd.to_datetime(df['年月日'], format='%Y%m%d')\n",
    "        except:\n",
    "            print('date format is not YYYYMMDD')\n",
    "            try:\n",
    "                df['年月日'] = pd.to_datetime(df['年月日'], format='%Y/%m/%d')\n",
    "            except:\n",
    "                print('date format is not YYYY/MM/DD')\n",
    "                try:\n",
    "                    df['年月日'] = pd.to_datetime(df['年月日'], format='%Y-%m-%d')\n",
    "                except:\n",
    "                    print('date format is not YYYY-MM-DD')\n",
    "    return df"
   ]
  },
  {
   "cell_type": "code",
   "execution_count": 6,
   "metadata": {},
   "outputs": [
    {
     "name": "stdout",
     "output_type": "stream",
     "text": [
      "date format is not YYYYMMDD\n",
      "date format is not YYYY/MM/DD\n"
     ]
    }
   ],
   "source": [
    "df_price = cmoney_data_clean_up(df_price)\n",
    "df_financial_statement = cmoney_data_clean_up(df_financial_statement)\n",
    "\n",
    "df_price = deepcopy(df_price[df_price['股票代號'].isin(ticker_list)])\n",
    "df_financial_statement = deepcopy(df_financial_statement[df_financial_statement['股票代號'].isin(ticker_list)])\n",
    "\n",
    "df_adjusted_price = tej_data_clean_up(df_adjusted_price)\n",
    "df_cash_dividends = tej_data_clean_up(df_cash_dividends)\n",
    "df_shareholder_meeting = tej_data_clean_up(df_shareholder_meeting)\n",
    "df_capital_formation = tej_data_clean_up(df_capital_formation)\n",
    "\n",
    "df_adjusted_price = deepcopy(df_adjusted_price[df_adjusted_price['股票代號'].isin(ticker_list)])\n",
    "df_cash_dividends = deepcopy(df_cash_dividends[df_cash_dividends['股票代號'].isin(ticker_list)])\n",
    "df_shareholder_meeting = deepcopy(df_shareholder_meeting[df_shareholder_meeting['股票代號'].isin(ticker_list)])\n",
    "df_capital_formation = deepcopy(df_capital_formation[df_capital_formation['股票代號'].isin(ticker_list)])"
   ]
  },
  {
   "attachments": {},
   "cell_type": "markdown",
   "metadata": {},
   "source": [
    "# 整理 T * N 資料"
   ]
  },
  {
   "cell_type": "code",
   "execution_count": 7,
   "metadata": {},
   "outputs": [],
   "source": [
    "tej_date_series = pd.unique(df_adjusted_price['年月日'])\n",
    "\n",
    "start_date = pd.Timestamp('2000-01-01')\n",
    "end_date = pd.Timestamp('2023-03-31')\n",
    "\n",
    "tej_date_series = tej_date_series[(tej_date_series >= start_date) & (tej_date_series <= end_date)]\n",
    "tej_date_series = np.sort(tej_date_series)"
   ]
  },
  {
   "cell_type": "code",
   "execution_count": 8,
   "metadata": {},
   "outputs": [],
   "source": [
    "cmoney_date_series = pd.unique(df_price['日期'])\n",
    "\n",
    "start_date = pd.Timestamp('2000-01-01')\n",
    "end_date = pd.Timestamp('2023-03-31')\n",
    "\n",
    "cmoney_date_series = cmoney_date_series[(cmoney_date_series >= start_date) & (cmoney_date_series <= end_date)]\n",
    "cmoney_date_series = np.sort(cmoney_date_series)"
   ]
  },
  {
   "attachments": {},
   "cell_type": "markdown",
   "metadata": {},
   "source": [
    "# 普通股股本資料"
   ]
  },
  {
   "cell_type": "code",
   "execution_count": 9,
   "metadata": {},
   "outputs": [],
   "source": [
    "df_capital_formation = df_capital_formation.drop_duplicates()"
   ]
  },
  {
   "cell_type": "code",
   "execution_count": 10,
   "metadata": {},
   "outputs": [],
   "source": [
    "df_capital_formation_slice = deepcopy(df_capital_formation[df_capital_formation['股票代號'].isin(ticker_list)][['股票代號', '除權日', '總股本(仟元)']])\n",
    "# df_capital_formation_slice = deepcopy(df_capital_formation[df_capital_formation.columns])\n",
    "df_financial_statement_slice = deepcopy(df_financial_statement[df_financial_statement['股票代號'].isin(ticker_list)][['股票代號', '年季','建立日期', '普通股股本(千)']])\n",
    "df_financial_statement_slice.dropna(inplace=True)"
   ]
  },
  {
   "cell_type": "code",
   "execution_count": 11,
   "metadata": {},
   "outputs": [],
   "source": [
    "df_financial_statement_slice = df_financial_statement_slice.drop_duplicates()"
   ]
  },
  {
   "cell_type": "code",
   "execution_count": 12,
   "metadata": {},
   "outputs": [],
   "source": [
    "df_financial_statement_slice.columns = ['股票代號', '年季','建立日期', '普通股股本(千)']\n",
    "df_capital_formation_slice.columns = ['股票代號','日期', '普通股股本(千)']"
   ]
  },
  {
   "cell_type": "code",
   "execution_count": 13,
   "metadata": {},
   "outputs": [],
   "source": [
    "def quarter_end_date(year_quarter: str):\n",
    "    quarter_dict = {\n",
    "    '1': '03',\n",
    "    '2': '06',\n",
    "    '3': '09',\n",
    "    '4': '12'\n",
    "    }\n",
    "    return pd.Timestamp(year_quarter[:4] + '-' + quarter_dict[year_quarter[-1]] + '-01') + pd.offsets.QuarterEnd(0)\n",
    "\n",
    "df_financial_statement_slice['季底日期'] = df_financial_statement_slice['年季'].apply(lambda x: quarter_end_date(x))"
   ]
  },
  {
   "cell_type": "code",
   "execution_count": 14,
   "metadata": {},
   "outputs": [],
   "source": [
    "def last_announce_date(year_quarter: str, shift: int = 0):\n",
    "    \"\"\" Change the year_quarter to the last announce date of the financial statement\n",
    "\n",
    "    Args:\n",
    "        year_quarter (str): year_quarter in the format of YYYYQQ\n",
    "        shift (int, optional): shift the date by the number of days. Defaults to 0.\n",
    "\n",
    "    Returns:\n",
    "        date: the last announce date of the financial statement\n",
    "    \"\"\"\n",
    "    if year_quarter[-1] == '1':\n",
    "        date = pd.Timestamp(year_quarter[:4] + '-05-15')\n",
    "    elif year_quarter[-1] == '2':\n",
    "        date = pd.Timestamp(year_quarter[:4] + '-08-14')\n",
    "    elif year_quarter[-1] == '3':\n",
    "        date = pd.Timestamp(year_quarter[:4] + '-11-14')\n",
    "    elif year_quarter[-1] == '4':\n",
    "        date = pd.Timestamp(str(int(year_quarter[:4]) + 1) + '-03-31')\n",
    "    \n",
    "    # if the date is a holiday, move it to the next business day\n",
    "    if date.weekday() in [5,6]:\n",
    "        date = date + pd.offsets.BDay(1)\n",
    "\n",
    "    # if shift is not 0, shift the date by the number of days\n",
    "    if shift != 0:\n",
    "        date = date + pd.offsets.BDay(shift)\n",
    "    \n",
    "    return date"
   ]
  },
  {
   "cell_type": "code",
   "execution_count": 15,
   "metadata": {},
   "outputs": [],
   "source": [
    "# get the last announce date of the financial statement\n",
    "df_financial_statement_slice['最後揭露財報日期'] = df_financial_statement_slice['年季'].apply(lambda x: last_announce_date(x, 1))\n",
    "\n",
    "# convert 建立日期 from YYYYMMDD to datetime format YYYY-MM-DD\n",
    "df_financial_statement_slice['建立日期'] = pd.to_datetime(df_financial_statement_slice['建立日期'], format='%Y%m%d')\n",
    "\n",
    "# calculate the date_valid_date, which is the earlier date of 建立日期 and 最後揭露財報日期\n",
    "df_financial_statement_slice['data_valid_date'] = df_financial_statement_slice[['建立日期', '最後揭露財報日期']].min(axis=1)\n",
    "\n",
    "df_financial_statement_valid = deepcopy(df_financial_statement_slice[['股票代號','data_valid_date', '普通股股本(千)']])\n",
    "df_financial_statement_valid.columns = ['股票代號','日期', '普通股股本(千)']\n",
    "\n",
    "df_book_capital = pd.concat([df_capital_formation_slice, df_financial_statement_valid], axis=0)\n",
    "\n",
    "df_book_capital.drop_duplicates(subset=['股票代號','日期'],inplace=True)\n",
    "\n",
    "df_book_capital_pivot = df_book_capital.pivot(index='日期', columns='股票代號', values='普通股股本(千)')\n",
    "# df_book_capital_pivot\n",
    "# expand the index to include all the dates between start_date and end_date\n",
    "# start_date is the earliest date of the index, end_date is the latest date of the index\n",
    "df_book_capital_pivot = df_book_capital_pivot.reindex(pd.date_range(df_book_capital_pivot.index.min(), df_book_capital_pivot.index.max(), freq='D'))\n",
    "\n",
    "# ffill the missing values\n",
    "df_book_capital_pivot = df_book_capital_pivot.fillna(method='ffill')\n",
    "\n",
    "# Melt the pivot table\n",
    "df_book_capital_melt = pd.melt(df_book_capital_pivot.reset_index(), id_vars='index', var_name='股票代號', value_name='普通股股本(千)')"
   ]
  },
  {
   "cell_type": "code",
   "execution_count": 16,
   "metadata": {},
   "outputs": [],
   "source": [
    "df_book_capital_melt.columns = ['日期', '股票代號', '普通股股本(千)']\n",
    "\n",
    "df_book_capital_melt['普通股股本(千)'] = df_book_capital_melt['普通股股本(千)'].astype(float)"
   ]
  },
  {
   "attachments": {},
   "cell_type": "markdown",
   "metadata": {},
   "source": [
    "# 在外流通股數"
   ]
  },
  {
   "cell_type": "code",
   "execution_count": 17,
   "metadata": {},
   "outputs": [],
   "source": [
    "df_capital_formation_slice = deepcopy(df_capital_formation[df_capital_formation['股票代號'].isin(ticker_list)][['股票代號', '除權日', '面額']])\n",
    "df_capital_formation_slice.columns = ['股票代號','日期', '面額']\n",
    "df_capital_formation_slice['日期'] = pd.to_datetime(df_capital_formation_slice['日期'], format='%Y%m%d')\n",
    "df_share_outstanding = pd.merge(df_book_capital_melt, df_capital_formation_slice, on=['股票代號', '日期'], how='left')\n",
    "df_share_outstanding['面額'] = df_share_outstanding['面額'].astype(float)\n",
    "df_share_outstanding['普通股股本(千)'] = df_share_outstanding['普通股股本(千)'].astype(float)\n",
    "df_share_outstanding['面額'] = df_share_outstanding.groupby('股票代號', as_index = False, group_keys = False)['面額'].bfill()\n",
    "df_share_outstanding['面額'] = df_share_outstanding.groupby('股票代號', as_index = False, group_keys = False)['面額'].ffill()\n",
    "df_share_outstanding['流通在外股數'] = df_share_outstanding['普通股股本(千)'] / df_share_outstanding['面額']\n",
    "df_share_outstanding = deepcopy(df_share_outstanding[['日期', '股票代號', '流通在外股數']])"
   ]
  },
  {
   "attachments": {},
   "cell_type": "markdown",
   "metadata": {},
   "source": [
    "# 排除市值小於2E的公司"
   ]
  },
  {
   "cell_type": "code",
   "execution_count": 23,
   "metadata": {},
   "outputs": [],
   "source": [
    "df_adjusted_price = df_adjusted_price[df_adjusted_price['股票代號'].isin(ticker_list)]\n",
    "ticker_cap_under_200m = pd.unique(df_adjusted_price[df_adjusted_price['市值(百萬元)'] < 200]['股票代號'])"
   ]
  },
  {
   "attachments": {},
   "cell_type": "markdown",
   "metadata": {},
   "source": [
    "# 現金股利殖利率"
   ]
  },
  {
   "cell_type": "code",
   "execution_count": 24,
   "metadata": {},
   "outputs": [],
   "source": [
    "df_cash_dividends[df_cash_dividends['股票代號'] == '2330'][['股票名稱', '股票代號', '盈餘分派_起日', '除息日', '股息分配型態', '息值(元)']].head()\n",
    "\n",
    "# 從 盈餘分派_起日 判斷該資料的配息年度\n",
    "df_cash_dividends['盈餘分派_年度'] = df_cash_dividends['盈餘分派_起日'].apply(lambda x: x.year)\n",
    "\n",
    "df_cash_dividends_slice = deepcopy(df_cash_dividends[['股票名稱', '股票代號', '盈餘分派_年度', '除息日', '股息分配型態', '息值(元)']])\n",
    "df_shareholder_meeting_slice = deepcopy(df_shareholder_meeting[['股票名稱', '股票代號', '會議日期', '盈餘分派_年度','股息分配型態','現金股利(元)','累計現金股利(元)_盈餘']])\n",
    "\n",
    "# merge the two dataframes by 股票代號, 盈餘分派_年度, 股息分配型態\n",
    "df_dividend = pd.merge(df_cash_dividends_slice, df_shareholder_meeting_slice, on=['股票代號', '盈餘分派_年度', '股息分配型態'], how='outer')\n",
    "\n",
    "df_dividend_slice = deepcopy(df_dividend[(df_dividend['會議日期'].isna() == False)])[['股票代號','會議日期','現金股利(元)','除息日']]\n",
    "df_dividend_slice = df_dividend_slice.drop_duplicates(subset=['股票代號','會議日期'])\n",
    "\n",
    "df_dividend_pivot = df_dividend_slice.pivot(index = '會議日期',columns='股票代號', values='現金股利(元)')\n",
    "\n",
    "# start_date is the earliest date of the index, end_date is the latest date of the index\n",
    "df_dividend_pivot = df_dividend_pivot.reindex(pd.date_range(df_dividend_pivot.index.min(), df_dividend_pivot.index.max(), freq='D'))\n",
    "\n",
    "# ffill the missing values\n",
    "df_dividend_pivot = df_dividend_pivot.fillna(method='ffill')\n",
    "df_price_pivot = df_price.pivot(index='日期', columns='股票代號', values='收盤價')\n",
    "\n",
    "df_price_slice = df_price[['日期','股票代號','收盤價']].reset_index(drop=True)"
   ]
  },
  {
   "cell_type": "code",
   "execution_count": 25,
   "metadata": {},
   "outputs": [],
   "source": [
    "class CDF:\n",
    "    def __init__(self, df):\n",
    "        self.df = df\n",
    "    \n",
    "    def find_ticker(self, ticker):\n",
    "        df_copy = deepcopy(self.df[self.df['股票代號'] == ticker])\n",
    "        return CDF(df_copy)\n",
    "    \n",
    "    def not_na(self, column_name):\n",
    "        df_copy = deepcopy(self.df[self.df[column_name].notna()])\n",
    "        return CDF(df_copy)\n",
    "\n",
    "    def __getattr__(self, attr):\n",
    "        return getattr(self.df, attr)"
   ]
  },
  {
   "cell_type": "code",
   "execution_count": 52,
   "metadata": {},
   "outputs": [
    {
     "name": "stdout",
     "output_type": "stream",
     "text": [
      "True\n"
     ]
    }
   ],
   "source": [
    "df_dividend_slice['DIV'] = df_dividend_slice['現金股利(元)'].astype(float)\n",
    "\n",
    "df_price_slice['收盤價'] = df_price_slice['收盤價'].astype(float)\n",
    "# check if the type of the date is the same\n",
    "print(type(df_price_slice['日期'][0]) == type(df_dividend_slice['會議日期'][0]))\n",
    "df_price_dividend = pd.merge(df_price_slice, df_dividend_slice, left_on=['股票代號', '日期'], right_on = ['股票代號','會議日期'], how='outer')\n",
    "df_price_dividend.sort_values(by=['股票代號','日期'], inplace=True)\n",
    "\n",
    "df_price_dividend.dropna(subset=['收盤價'], inplace=True)\n",
    "df_price_dividend['DIV_ffill'] = df_price_dividend.groupby('股票代號', group_keys = False, as_index=False)['DIV'].ffill()\n",
    "df_price_dividend['會議日期_ffill'] = df_price_dividend.groupby('股票代號', group_keys = False, as_index=False)['會議日期'].ffill()\n",
    "df_price_dividend['除息日_ffill'] = df_price_dividend.groupby('股票代號', group_keys = False, as_index=False)['除息日'].ffill()\n",
    "\n",
    "# check if data is merge correctly\n",
    "# df_price_dividend[(df_price_dividend['股票代號'] == '2330') & (df_price_dividend['DIV'] > 0)]\n",
    "\n",
    "# 以下程式為檢察 上市日期 or 上櫃日期 是否早於會議日期，發現: 存在部分資料為TEJ有調整後股價，但Cmoney沒有未調整股價\n",
    "# ------------------------------------------------------------\n",
    "# df_company_info['上市日期'] = pd.to_datetime(df_company_info['上市日期'], format='%Y%m%d')\n",
    "# df_company_info['上櫃日期'] = pd.to_datetime(df_company_info['上櫃日期'], format='%Y%m%d')\n",
    "# df_company_info['最早上市上櫃日期'] = df_company_info[['上市日期', '上櫃日期']].min(axis=1)\n",
    "# df_company_info_listed_date = df_company_info[['股票代號','最早上市上櫃日期','上市日期','上櫃日期']]\n",
    "# df_price_dividend_price_na = df_price_dividend[df_price_dividend['收盤價'].isna()]\n",
    "# df_price_dividend_price_na = deepcopy(df_price_dividend_price_na.merge(df_company_info_listed_date, on='股票代號', how='left'))\n",
    "# df_price_dividend_price_na['date_check'] = df_price_dividend_price_na['會議日期'] < df_price_dividend_price_na['最早上市上櫃日期']\n",
    "# df_price_dividend_price_na_false = df_price_dividend_price_na[df_price_dividend_price_na['date_check']  == False].drop_duplicates()\n",
    "\n",
    "# df_adjusted_price_slice = df_adjusted_price[['年月日','股票代號','收盤價(元)']].reset_index(drop=True)\n",
    "# df_price_dividend_price_na_false.merge(df_adjusted_price_slice, left_on=['股票代號','會議日期'], right_on=['股票代號','年月日'], how='left').head(30)\n",
    "# ------------------------------------------------------------\n",
    "\n",
    "YEAR_DAYS = 250\n",
    "\n",
    "# sort dateFrame by 股票代號 and 日期 to make sure the rolling sum is correctly calculated\n",
    "df_price_dividend.sort_values(by=['股票代號','日期'], inplace=True)\n",
    "\n",
    "# fill 0 to the missing values of DIV\n",
    "df_price_dividend['DIV_fillna_0'] = df_price_dividend['DIV'].fillna(0)\n",
    "\n",
    "# The function to get the last non-na value in a rolling window\n",
    "def last_non_na(x):\n",
    "    return x.dropna().iloc[-1] if len(x.dropna()) > 0 else np.nan\n",
    "\n",
    "\n",
    "df_price_dividend['DIV_fillna_0_1_Y_sum'] = df_price_dividend.groupby('股票代號', group_keys = False, as_index=False)['DIV_fillna_0'].rolling(1 * YEAR_DAYS).sum()['DIV_fillna_0']\n",
    "df_price_dividend['DIV_fillna_0_2_Y_sum'] = df_price_dividend.groupby('股票代號', group_keys = False, as_index=False)['DIV_fillna_0'].rolling(2 * YEAR_DAYS).sum()['DIV_fillna_0']\n",
    "df_price_dividend['DIV_fillna_0_3_Y_sum'] = df_price_dividend.groupby('股票代號', group_keys = False, as_index=False)['DIV_fillna_0'].rolling(3 * YEAR_DAYS).sum()['DIV_fillna_0']\n",
    "\n",
    "# calculate the days_since_last_meeting by subtracting the 會議日期_ffill and 日期, and convert it to int\n",
    "df_price_dividend['days_since_last_meeting'] = (df_price_dividend['日期'] - df_price_dividend['會議日期_ffill']).dt.days\n",
    "\n",
    "# if the days_since_last_meeting is greater than 365, set DIV_ffill to 0\n",
    "df_price_dividend.loc[df_price_dividend['days_since_last_meeting'] > 365, 'DIV_ffill'] = 0\n",
    "df_price_dividend.loc[df_price_dividend['日期'] >= df_price_dividend['除息日_ffill'], 'DIV_ffill'] = 0\n",
    "\n",
    "df_price_dividend['last_dividend_yield'] = df_price_dividend['DIV_ffill'] / df_price_dividend['收盤價']\n",
    "\n",
    "df_price_dividend = df_price_dividend.reset_index(drop=True)\n",
    "\n",
    "df_price_dividend_slice = df_price_dividend[['日期','股票代號','last_dividend_yield']].copy().reset_index(drop=True)"
   ]
  },
  {
   "attachments": {},
   "cell_type": "markdown",
   "metadata": {},
   "source": [
    "# 流動性篩選"
   ]
  },
  {
   "attachments": {},
   "cell_type": "markdown",
   "metadata": {},
   "source": [
    "## 1. 最近250日(代替12個月)成交量金額總額排序 -> 標註最後20%股票 -> flag_R250DVS"
   ]
  },
  {
   "cell_type": "code",
   "execution_count": 27,
   "metadata": {},
   "outputs": [
    {
     "data": {
      "text/html": [
       "<div>\n",
       "<style scoped>\n",
       "    .dataframe tbody tr th:only-of-type {\n",
       "        vertical-align: middle;\n",
       "    }\n",
       "\n",
       "    .dataframe tbody tr th {\n",
       "        vertical-align: top;\n",
       "    }\n",
       "\n",
       "    .dataframe thead th {\n",
       "        text-align: right;\n",
       "    }\n",
       "</style>\n",
       "<table border=\"1\" class=\"dataframe\">\n",
       "  <thead>\n",
       "    <tr style=\"text-align: right;\">\n",
       "      <th></th>\n",
       "      <th>日期</th>\n",
       "      <th>股票代號</th>\n",
       "      <th>收盤價</th>\n",
       "      <th>成交量</th>\n",
       "      <th>成交金額(千)</th>\n",
       "      <th>rolling_250D_sum</th>\n",
       "      <th>percentile</th>\n",
       "      <th>flag_R1YAS</th>\n",
       "    </tr>\n",
       "  </thead>\n",
       "  <tbody>\n",
       "    <tr>\n",
       "      <th>24626</th>\n",
       "      <td>2005-08-04</td>\n",
       "      <td>1107</td>\n",
       "      <td>0.66</td>\n",
       "      <td>271</td>\n",
       "      <td>176</td>\n",
       "      <td>413712.0000</td>\n",
       "      <td>0.1975</td>\n",
       "      <td>1</td>\n",
       "    </tr>\n",
       "    <tr>\n",
       "      <th>24627</th>\n",
       "      <td>2005-08-08</td>\n",
       "      <td>1107</td>\n",
       "      <td>0.7</td>\n",
       "      <td>146</td>\n",
       "      <td>102</td>\n",
       "      <td>393187.0000</td>\n",
       "      <td>0.1911</td>\n",
       "      <td>1</td>\n",
       "    </tr>\n",
       "    <tr>\n",
       "      <th>24628</th>\n",
       "      <td>2005-08-09</td>\n",
       "      <td>1107</td>\n",
       "      <td>0.74</td>\n",
       "      <td>162</td>\n",
       "      <td>120</td>\n",
       "      <td>378395.0000</td>\n",
       "      <td>0.1866</td>\n",
       "      <td>1</td>\n",
       "    </tr>\n",
       "    <tr>\n",
       "      <th>24629</th>\n",
       "      <td>2005-08-10</td>\n",
       "      <td>1107</td>\n",
       "      <td>0.79</td>\n",
       "      <td>291</td>\n",
       "      <td>230</td>\n",
       "      <td>355312.0000</td>\n",
       "      <td>0.1793</td>\n",
       "      <td>1</td>\n",
       "    </tr>\n",
       "    <tr>\n",
       "      <th>24630</th>\n",
       "      <td>2005-08-11</td>\n",
       "      <td>1107</td>\n",
       "      <td>0.74</td>\n",
       "      <td>2328</td>\n",
       "      <td>1936</td>\n",
       "      <td>340024.0000</td>\n",
       "      <td>0.1721</td>\n",
       "      <td>1</td>\n",
       "    </tr>\n",
       "    <tr>\n",
       "      <th>...</th>\n",
       "      <td>...</td>\n",
       "      <td>...</td>\n",
       "      <td>...</td>\n",
       "      <td>...</td>\n",
       "      <td>...</td>\n",
       "      <td>...</td>\n",
       "      <td>...</td>\n",
       "      <td>...</td>\n",
       "    </tr>\n",
       "    <tr>\n",
       "      <th>7950089</th>\n",
       "      <td>2021-06-24</td>\n",
       "      <td>9962</td>\n",
       "      <td>11</td>\n",
       "      <td>245</td>\n",
       "      <td>2730</td>\n",
       "      <td>538932.0000</td>\n",
       "      <td>0.1496</td>\n",
       "      <td>1</td>\n",
       "    </tr>\n",
       "    <tr>\n",
       "      <th>7950090</th>\n",
       "      <td>2021-06-25</td>\n",
       "      <td>9962</td>\n",
       "      <td>12.1</td>\n",
       "      <td>2226</td>\n",
       "      <td>26772</td>\n",
       "      <td>565307.0000</td>\n",
       "      <td>0.1554</td>\n",
       "      <td>1</td>\n",
       "    </tr>\n",
       "    <tr>\n",
       "      <th>7950091</th>\n",
       "      <td>2021-06-28</td>\n",
       "      <td>9962</td>\n",
       "      <td>13.3</td>\n",
       "      <td>2851</td>\n",
       "      <td>37660</td>\n",
       "      <td>602395.0000</td>\n",
       "      <td>0.1653</td>\n",
       "      <td>1</td>\n",
       "    </tr>\n",
       "    <tr>\n",
       "      <th>7950092</th>\n",
       "      <td>2021-06-29</td>\n",
       "      <td>9962</td>\n",
       "      <td>14.6</td>\n",
       "      <td>1513</td>\n",
       "      <td>22096</td>\n",
       "      <td>623667.0000</td>\n",
       "      <td>0.1688</td>\n",
       "      <td>1</td>\n",
       "    </tr>\n",
       "    <tr>\n",
       "      <th>7950093</th>\n",
       "      <td>2021-06-30</td>\n",
       "      <td>9962</td>\n",
       "      <td>16.05</td>\n",
       "      <td>3595</td>\n",
       "      <td>57705</td>\n",
       "      <td>681079.0000</td>\n",
       "      <td>0.1754</td>\n",
       "      <td>1</td>\n",
       "    </tr>\n",
       "  </tbody>\n",
       "</table>\n",
       "<p>1472443 rows × 8 columns</p>\n",
       "</div>"
      ],
      "text/plain": [
       "                日期  股票代號    收盤價   成交量 成交金額(千)  rolling_250D_sum  percentile  \\\n",
       "24626   2005-08-04  1107   0.66   271     176       413712.0000      0.1975   \n",
       "24627   2005-08-08  1107    0.7   146     102       393187.0000      0.1911   \n",
       "24628   2005-08-09  1107   0.74   162     120       378395.0000      0.1866   \n",
       "24629   2005-08-10  1107   0.79   291     230       355312.0000      0.1793   \n",
       "24630   2005-08-11  1107   0.74  2328    1936       340024.0000      0.1721   \n",
       "...            ...   ...    ...   ...     ...               ...         ...   \n",
       "7950089 2021-06-24  9962     11   245    2730       538932.0000      0.1496   \n",
       "7950090 2021-06-25  9962   12.1  2226   26772       565307.0000      0.1554   \n",
       "7950091 2021-06-28  9962   13.3  2851   37660       602395.0000      0.1653   \n",
       "7950092 2021-06-29  9962   14.6  1513   22096       623667.0000      0.1688   \n",
       "7950093 2021-06-30  9962  16.05  3595   57705       681079.0000      0.1754   \n",
       "\n",
       "         flag_R1YAS  \n",
       "24626             1  \n",
       "24627             1  \n",
       "24628             1  \n",
       "24629             1  \n",
       "24630             1  \n",
       "...             ...  \n",
       "7950089           1  \n",
       "7950090           1  \n",
       "7950091           1  \n",
       "7950092           1  \n",
       "7950093           1  \n",
       "\n",
       "[1472443 rows x 8 columns]"
      ]
     },
     "execution_count": 27,
     "metadata": {},
     "output_type": "execute_result"
    }
   ],
   "source": [
    "df_price_liquidity = df_price.sort_values(by=['股票代號','日期'])[['日期','股票代號','收盤價','成交量','成交金額(千)']]\n",
    "df_price_liquidity.reset_index(drop=True, inplace=True)\n",
    "# Calculate rolling 250D sum\n",
    "df_price_liquidity['rolling_250D_sum'] = df_price_liquidity.groupby('股票代號')['成交金額(千)'].transform(lambda x: x.rolling(250).sum())\n",
    "# Calculate the percentile of the rolling sum for each date across stocks\n",
    "df_price_liquidity['percentile'] = df_price_liquidity.groupby('日期')['rolling_250D_sum'].transform(lambda x: x.rank(pct=True))\n",
    "# Flag the bottom 20%\n",
    "df_price_liquidity['flag_R1YAS'] = df_price_liquidity['percentile'].apply(lambda x: 1 if x <= 0.2 else 0)\n",
    "df_price_liquidity[df_price_liquidity['flag_R1YAS'] == 1].sort_values(by=['股票代號','日期'])"
   ]
  },
  {
   "attachments": {},
   "cell_type": "markdown",
   "metadata": {},
   "source": [
    "## 2. 近三個月月平均成交量達10000張 (先計算每月成交量總額，再計算三個月平均) -> flag_R3MVM"
   ]
  },
  {
   "cell_type": "code",
   "execution_count": 28,
   "metadata": {},
   "outputs": [],
   "source": [
    "# Assuming your dataframe is named 'df_price_liquidity'\n",
    "df_price_liquidity['日期'] = pd.to_datetime(df_price_liquidity['日期'])  # Convert the '日期' column to datetime if it's not already\n",
    "\n",
    "df_price_liquidity['成交量'] = df_price_liquidity['成交量'].astype(float)\n",
    "\n",
    "df_price_liquidity['rolling_20d_volume_sum'] = df_price_liquidity.groupby('股票代號')['成交量'].transform(lambda x: x.rolling(20).sum())\n",
    "df_price_liquidity['rolling_40d_volume_sum'] = df_price_liquidity.groupby('股票代號')['成交量'].transform(lambda x: x.rolling(40).sum())\n",
    "df_price_liquidity['rolling_60d_volume_sum'] = df_price_liquidity.groupby('股票代號')['成交量'].transform(lambda x: x.rolling(60).sum())\n",
    "\n",
    "df_price_liquidity['0_20_d_volume_sum'] = df_price_liquidity['rolling_20d_volume_sum']\n",
    "df_price_liquidity['20_40_d_volume_sum'] = df_price_liquidity['rolling_40d_volume_sum'] - df_price_liquidity['rolling_20d_volume_sum']\n",
    "df_price_liquidity['40_60_d_volume_sum'] = df_price_liquidity['rolling_60d_volume_sum'] - df_price_liquidity['rolling_40d_volume_sum']\n",
    "df_price_liquidity['rolling_3_m_volume_mean'] = (df_price_liquidity['0_20_d_volume_sum'] + df_price_liquidity['20_40_d_volume_sum'] + df_price_liquidity['40_60_d_volume_sum']) / 3\n",
    "\n",
    "# flag if rolling_3_m_volume_mean is smaller than 10000\n",
    "df_price_liquidity['flag_R3MVM'] = df_price_liquidity['rolling_3_m_volume_mean'].apply(lambda x: 1 if x < 10000 else 0)"
   ]
  },
  {
   "attachments": {},
   "cell_type": "markdown",
   "metadata": {},
   "source": [
    "## 3. 近三個月月平均周轉率達6%, 周轉率 = 成交量 / 發行股數"
   ]
  },
  {
   "cell_type": "code",
   "execution_count": 29,
   "metadata": {},
   "outputs": [],
   "source": [
    "# merge the two dataframes, df_share_outstanding and df_price_liquidity\n",
    "df_share_outstanding['日期'] = pd.to_datetime(df_share_outstanding['日期'])\n",
    "df_share_outstanding['股票代號'] = df_share_outstanding['股票代號'].astype(str)\n",
    "df_share_outstanding['流通在外股數'] = df_share_outstanding['流通在外股數'].astype(float)\n",
    "\n",
    "df_price_liquidity['日期'] = pd.to_datetime(df_price_liquidity['日期'])\n",
    "df_price_liquidity['股票代號'] = df_price_liquidity['股票代號'].astype(str)\n",
    "\n",
    "df_price_liquidity_capital = pd.merge(df_price_liquidity, df_share_outstanding, on=['股票代號','日期'], how='left')\n",
    "\n",
    "df_price_liquidity_capital['0_20_d_turnover'] = df_price_liquidity_capital['0_20_d_volume_sum'] / df_price_liquidity_capital['流通在外股數']\n",
    "df_price_liquidity_capital['20_40_d_turnover'] = df_price_liquidity_capital['20_40_d_volume_sum'] / df_price_liquidity_capital['流通在外股數']\n",
    "df_price_liquidity_capital['40_60_d_turnover'] = df_price_liquidity_capital['40_60_d_volume_sum'] / df_price_liquidity_capital['流通在外股數']\n",
    "\n",
    "df_price_liquidity_capital['rolling_3_m_turnover_mean'] = (df_price_liquidity_capital['0_20_d_turnover'] + df_price_liquidity_capital['20_40_d_turnover'] + df_price_liquidity_capital['40_60_d_turnover']) / 3\n",
    "\n",
    "# flag if rolling_3_m_turnover_mean is smaller than 0.06\n",
    "df_price_liquidity_capital['flag_R3MTM'] = df_price_liquidity_capital['rolling_3_m_turnover_mean'].apply(lambda x: 1 if x < 0.06 else 0)"
   ]
  },
  {
   "cell_type": "code",
   "execution_count": 30,
   "metadata": {},
   "outputs": [],
   "source": [
    "# replace the inf with nan and drop the rows with nan and describe the rolling_3_m_turnover_mean\n",
    "df_price_liquidity_capital['rolling_3_m_turnover_mean'].replace([np.inf, -np.inf], np.nan, inplace=True)"
   ]
  },
  {
   "attachments": {},
   "cell_type": "markdown",
   "metadata": {},
   "source": [
    "## Get flag column and plot the flag ratio"
   ]
  },
  {
   "cell_type": "code",
   "execution_count": 31,
   "metadata": {},
   "outputs": [],
   "source": [
    "df_price_liquidity_flag = deepcopy(df_price_liquidity_capital[['日期','股票代號','flag_R3MVM', 'flag_R3MTM','flag_R1YAS']])"
   ]
  },
  {
   "cell_type": "code",
   "execution_count": 32,
   "metadata": {},
   "outputs": [
    {
     "data": {
      "image/png": "[encoded data removed]",
      "text/plain": [
       "<Figure size 1000x600 with 1 Axes>"
      ]
     },
     "metadata": {},
     "output_type": "display_data"
    }
   ],
   "source": [
    "\n",
    "\n",
    "\n",
    "# Specify the font name or font file that contains the missing glyph\n",
    "font_name = 'Microsoft JhengHei'  # Replace with the desired font name\n",
    "\n",
    "# Set the font for Matplotlib\n",
    "plt.rcParams['font.family'] = font_name\n",
    "\n",
    "# Create a larger figure\n",
    "fig, ax = plt.subplots(figsize=(10, 6))  # Adjust the values as needed to set the desired size\n",
    "\n",
    "# Plot the ticker number ratio of each flag by date\n",
    "df_price_liquidity_flag.groupby('日期').mean()[['flag_R3MVM','flag_R3MTM','flag_R1YAS']].plot(ax=ax)\n",
    "\n",
    "# Get the current time\n",
    "current_time = datetime.datetime.now().strftime('%Y-%m-%d_%H-%M-%S')\n",
    "\n",
    "# Customize the legend text\n",
    "legend_labels = ['近三個月月成交量', '近三個月月周轉率', '近一年成交量20Q']  # Replace with your desired legend labels\n",
    "ax.legend(legend_labels)\n",
    "\n",
    "# Save the plot with the current time as the filename\n",
    "# plt.savefig(f'plot_{current_time}.png')\n",
    "\n",
    "# Show the plot\n",
    "plt.show()"
   ]
  },
  {
   "cell_type": "code",
   "execution_count": 33,
   "metadata": {},
   "outputs": [],
   "source": [
    "# flag only the stock that has all the flags are 1\n",
    "df_price_liquidity_flag['flag_all'] = df_price_liquidity_flag['flag_R3MVM'] + df_price_liquidity_flag['flag_R3MTM'] + df_price_liquidity_flag['flag_R1YAS']\n",
    "df_price_liquidity_flag['flag_all'] = df_price_liquidity_flag['flag_all'].apply(lambda x: 1 if x == 3 else 0)"
   ]
  },
  {
   "cell_type": "code",
   "execution_count": 34,
   "metadata": {},
   "outputs": [
    {
     "data": {
      "image/png": "[encoded data removed]",
      "text/plain": [
       "<Figure size 1000x600 with 1 Axes>"
      ]
     },
     "metadata": {},
     "output_type": "display_data"
    }
   ],
   "source": [
    "# plot the flag_all average\n",
    "fig, ax = plt.subplots(figsize=(10, 6))  # Adjust the values as needed to set the desired size\n",
    "\n",
    "# Plot the ticker number ratio of each flag by date\n",
    "df_price_liquidity_flag.groupby('日期').mean()[['flag_all']].plot(ax=ax)\n",
    "\n",
    "plt.show()"
   ]
  },
  {
   "attachments": {},
   "cell_type": "markdown",
   "metadata": {},
   "source": [
    "# Save current variable df to feather file"
   ]
  },
  {
   "cell_type": "code",
   "execution_count": 54,
   "metadata": {},
   "outputs": [],
   "source": [
    "df_price_liquidity_flag.to_feather('./data/df_price_liquidity_flag.feather')\n",
    "df_book_capital_melt.to_feather('./data/df_book_capital_melt.feather')\n",
    "df_price_dividend_slice.to_feather('./data/df_price_dividend_slice.feather')\n",
    "df_price_dividend.to_feather('./data/df_price_dividend.feather')"
   ]
  },
  {
   "cell_type": "code",
   "execution_count": 18,
   "metadata": {},
   "outputs": [],
   "source": [
    "df_share_outstanding.to_feather('./data/df_share_outstanding.feather')"
   ]
  },
  {
   "cell_type": "code",
   "execution_count": null,
   "metadata": {},
   "outputs": [],
   "source": []
  }
 ],
 "metadata": {
  "kernelspec": {
   "display_name": "venv",
   "language": "python",
   "name": "python3"
  },
  "language_info": {
   "codemirror_mode": {
    "name": "ipython",
    "version": 3
   },
   "file_extension": ".py",
   "mimetype": "text/x-python",
   "name": "python",
   "nbconvert_exporter": "python",
   "pygments_lexer": "ipython3",
   "version": "3.11.4"
  },
  "orig_nbformat": 4
 },
 "nbformat": 4,
 "nbformat_minor": 2
}
